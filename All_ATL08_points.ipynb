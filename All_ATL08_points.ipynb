{
 "cells": [
  {
   "cell_type": "code",
   "execution_count": 1,
   "metadata": {},
   "outputs": [],
   "source": [
    "import math\n",
    "import warnings\n",
    "warnings.filterwarnings('ignore')\n",
    "import numpy as np\n",
    "import numpy.ma as ma\n",
    "import pandas as pd\n",
    "import datetime as dt\n",
    "import matplotlib.pyplot as plt\n",
    "import cartopy.crs as ccrs\n",
    "import cartopy.crs as crs\n",
    "import cartopy.feature as cfeature\n",
    "import h5py  \n",
    "from astropy.time import Time\n",
    "import os\n",
    "import glob\n",
    "from osgeo import gdal\n",
    "import scipy.ndimage\n",
    "import rasterio as rio\n",
    "import re\n",
    "import geopandas as gpd\n",
    "import earthpy as et\n",
    "import earthpy.plot as ep\n",
    "import earthpy.spatial as es\n",
    "import earthpy.mask as em\n",
    "from pyhdf.SD import SD, SDC\n",
    "import pprint\n",
    "import matplotlib.colors as colors \n",
    "from mpl_toolkits.axes_grid1 import make_axes_locatable \n",
    "import csv\n",
    "import pprint\n",
    "import matplotlib.colors as colors \n",
    "from mpl_toolkits.axes_grid1 import make_axes_locatable "
   ]
  },
  {
   "cell_type": "code",
   "execution_count": 2,
   "metadata": {},
   "outputs": [],
   "source": [
    "# Set input directory, and change working directory - plug in D:\n",
    "inDir = \"D:\\\\masters_data\\\\ATL08\"   # I should change this so I can work from github?\n",
    "os.chdir(inDir)                                                               # Change to working directory\n",
    "outDir = os.path.normpath(os.path.split(inDir)[0] + os.sep + 'output') + '\\\\' # Create and set output directory\n",
    "if not os.path.exists(outDir): os.makedirs(outDir)"
   ]
  },
  {
   "cell_type": "code",
   "execution_count": 3,
   "metadata": {},
   "outputs": [],
   "source": [
    "# select first MODIS file\n",
    "ATL08Files = glob.glob('*ATL08*')\n",
    "ATL08 = h5py.File(ATL08Files[0], 'r')"
   ]
  },
  {
   "cell_type": "code",
   "execution_count": 4,
   "metadata": {},
   "outputs": [],
   "source": [
    "mean_canopy = ATL08['/gt1r/land_segments/canopy/h_mean_canopy'][:]\n",
    "max_canopy = ATL08['/gt1r/land_segments/canopy/h_max_canopy'][:]\n",
    "min_canopy = ATL08['/gt1r/land_segments/canopy/h_min_canopy'][:]\n",
    "median_canopy = ATL08['/gt1r/land_segments/canopy/h_median_canopy'][:]\n",
    "canopy_openness = ATL08['/gt1r/land_segments/canopy/canopy_openness'][:]\n",
    "latitude = ATL08['/gt1r/land_segments/latitude'] [:]\n",
    "longitude = ATL08['/gt1r/land_segments/longitude'][:]\n",
    "\n",
    "df08=pd.DataFrame({'latitude':latitude,'longitude':longitude, 'mean_canopy': mean_canopy, \n",
    "                   'max_canopy': max_canopy, 'min_canopy': min_canopy, 'median_canopy': median_canopy,\n",
    "                  'canopy_openness': canopy_openness})"
   ]
  },
  {
   "cell_type": "code",
   "execution_count": 5,
   "metadata": {},
   "outputs": [],
   "source": [
    "np.savetxt(\"D:\\\\masters_data\\\\output\\\\csv\\\\df08_points.csv\", df08, delimiter=\",\")"
   ]
  },
  {
   "cell_type": "code",
   "execution_count": 6,
   "metadata": {},
   "outputs": [],
   "source": [
    "d = {}\n",
    "number = 0\n",
    "\n",
    "\n",
    "for file in ATL08Files:\n",
    "    FILE = h5py.File(ATL08Files[number], 'r')\n",
    "    max_canopy = FILE['/gt1r/land_segments/canopy/h_max_canopy'][:]\n",
    "    min_canopy = FILE['/gt1r/land_segments/canopy/h_min_canopy'][:]\n",
    "    median_canopy = FILE['/gt1r/land_segments/canopy/h_median_canopy'][:]\n",
    "    canopy_openness = FILE['/gt1r/land_segments/canopy/canopy_openness'][:]\n",
    "    mean_canopy = FILE['/gt1r/land_segments/canopy/h_mean_canopy'][:]\n",
    "    \n",
    "    latitude = FILE['/gt1r/land_segments/latitude'] [:]\n",
    "    longitude = FILE['/gt1r/land_segments/longitude'][:]\n",
    "    \n",
    "    \n",
    "    d[number] = pd.DataFrame({'latitude':latitude,'longitude':longitude, 'mean_canopy': mean_canopy,\n",
    "                             'max_canopy': max_canopy, 'min_canopy': min_canopy, 'median_canopy': median_canopy,\n",
    "                             'canopy_openness': canopy_openness})\n",
    "    number += 1"
   ]
  },
  {
   "cell_type": "code",
   "execution_count": 7,
   "metadata": {},
   "outputs": [],
   "source": [
    "all_points = pd.concat(d)"
   ]
  },
  {
   "cell_type": "code",
   "execution_count": 8,
   "metadata": {},
   "outputs": [],
   "source": [
    "all_points = all_points[all_points.longitude > 14]\n",
    "all_points = all_points[all_points.longitude < 27.6]\n",
    "all_points = all_points[all_points.latitude > 2]\n",
    "all_points = all_points[all_points.latitude < 11]"
   ]
  },
  {
   "cell_type": "code",
   "execution_count": 9,
   "metadata": {},
   "outputs": [
    {
     "name": "stdout",
     "output_type": "stream",
     "text": [
      "            latitude  longitude   mean_canopy    max_canopy    min_canopy  \\\n",
      "0   16347  10.808227  18.664986  4.863425e+00  1.008167e+01  5.119019e-01   \n",
      "    16348  10.807324  18.664894  5.473944e+00  1.064835e+01  6.545715e-01   \n",
      "    16349  10.806422  18.664801  4.802375e+00  1.090176e+01  5.988159e-01   \n",
      "    16350  10.523349  18.636093  4.987176e+00  9.200226e+00  5.248718e-01   \n",
      "    16351  10.515229  18.635271  3.402823e+38  3.402823e+38  3.402823e+38   \n",
      "...              ...        ...           ...           ...           ...   \n",
      "540 10092  10.995555  27.352436  3.402823e+38  3.402823e+38  3.402823e+38   \n",
      "    10093  10.996457  27.352345  3.402823e+38  3.402823e+38  3.402823e+38   \n",
      "    10094  10.997359  27.352249  3.402823e+38  3.402823e+38  3.402823e+38   \n",
      "    10095  10.998260  27.352158  3.402823e+38  3.402823e+38  3.402823e+38   \n",
      "    10096  10.999163  27.352068  3.402823e+38  3.402823e+38  3.402823e+38   \n",
      "\n",
      "           median_canopy  canopy_openness  \n",
      "0   16347   5.097809e+00     3.428745e+00  \n",
      "    16348   5.853699e+00     2.871783e+00  \n",
      "    16349   4.158936e+00     3.598693e+00  \n",
      "    16350   4.552078e+00     2.612066e+00  \n",
      "    16351   3.402823e+38     3.402823e+38  \n",
      "...                  ...              ...  \n",
      "540 10092   3.402823e+38     3.402823e+38  \n",
      "    10093   3.402823e+38     3.402823e+38  \n",
      "    10094   3.402823e+38     3.402823e+38  \n",
      "    10095   3.402823e+38     3.402823e+38  \n",
      "    10096   3.402823e+38     3.402823e+38  \n",
      "\n",
      "[1360892 rows x 7 columns]\n"
     ]
    }
   ],
   "source": [
    "print(all_points)"
   ]
  },
  {
   "cell_type": "code",
   "execution_count": 10,
   "metadata": {},
   "outputs": [
    {
     "name": "stdout",
     "output_type": "stream",
     "text": [
      "1360892\n"
     ]
    }
   ],
   "source": [
    "print(len(all_points))"
   ]
  },
  {
   "cell_type": "code",
   "execution_count": 11,
   "metadata": {},
   "outputs": [],
   "source": [
    "all_points.drop(all_points[all_points['mean_canopy'] > 100].index, inplace = True)"
   ]
  },
  {
   "cell_type": "code",
   "execution_count": 12,
   "metadata": {},
   "outputs": [
    {
     "name": "stdout",
     "output_type": "stream",
     "text": [
      "965508\n"
     ]
    }
   ],
   "source": [
    "print(len(all_points))"
   ]
  },
  {
   "cell_type": "code",
   "execution_count": 13,
   "metadata": {},
   "outputs": [],
   "source": [
    "np.savetxt(\"D:\\\\masters_data\\\\output\\\\csv\\\\all_points.csv\", all_points, delimiter=\",\")"
   ]
  },
  {
   "cell_type": "code",
   "execution_count": null,
   "metadata": {},
   "outputs": [],
   "source": []
  }
 ],
 "metadata": {
  "kernelspec": {
   "display_name": "Python 3",
   "language": "python",
   "name": "python3"
  },
  "language_info": {
   "codemirror_mode": {
    "name": "ipython",
    "version": 3
   },
   "file_extension": ".py",
   "mimetype": "text/x-python",
   "name": "python",
   "nbconvert_exporter": "python",
   "pygments_lexer": "ipython3",
   "version": "3.8.5"
  }
 },
 "nbformat": 4,
 "nbformat_minor": 4
}
