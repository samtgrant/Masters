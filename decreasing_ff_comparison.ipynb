{
 "cells": [
  {
   "cell_type": "markdown",
   "metadata": {},
   "source": [
    "plots my data.\n",
    "takes out all my data which isnt from savannahs.\n",
    "I need to clean up my files so there is a clear progression of my data, so I dont get my workflow muddled"
   ]
  },
  {
   "cell_type": "code",
   "execution_count": 2,
   "metadata": {},
   "outputs": [],
   "source": [
    "# Import libraries\n",
    "import os\n",
    "import glob\n",
    "from osgeo import gdal\n",
    "import numpy as np\n",
    "import numpy.ma as ma\n",
    "import matplotlib.pyplot as plt\n",
    "import scipy.ndimage\n",
    "import pandas as pd\n",
    "import datetime as dt\n",
    "import rasterio as rio\n",
    "import re\n",
    "import geopandas as gpd\n",
    "import earthpy as et\n",
    "import earthpy.plot as ep\n",
    "import earthpy.spatial as es\n",
    "import earthpy.mask as em\n",
    "from pyhdf.SD import SD, SDC\n",
    "import pprint\n",
    "import gdal\n",
    "from gdalconst import *\n",
    "import matplotlib.colors as colors \n",
    "from mpl_toolkits.axes_grid1 import make_axes_locatable "
   ]
  },
  {
   "cell_type": "code",
   "execution_count": 3,
   "metadata": {},
   "outputs": [],
   "source": [
    "# save text for analysis in another file - means I dont have to run through the code every time I want to analyse it\n",
    "blanks_0203 = pd.read_csv(\"D:\\\\masters_data\\\\output\\\\csv\\\\NDVI\\\\0203_decrease_NDVI.csv\")\n",
    "blanks_0304 = pd.read_csv(\"D:\\\\masters_data\\\\output\\\\csv\\\\NDVI\\\\0304_decrease_NDVI.csv\")\n",
    "blanks_0405 = pd.read_csv(\"D:\\\\masters_data\\\\output\\\\csv\\\\NDVI\\\\0405_decrease_NDVI.csv\")\n",
    "blanks_0506 = pd.read_csv(\"D:\\\\masters_data\\\\output\\\\csv\\\\NDVI\\\\0506_decrease_NDVI.csv\")\n",
    "blanks_0607 = pd.read_csv(\"D:\\\\masters_data\\\\output\\\\csv\\\\NDVI\\\\0607_decrease_NDVI.csv\")\n",
    "blanks_0708 = pd.read_csv(\"D:\\\\masters_data\\\\output\\\\csv\\\\NDVI\\\\0708_decrease_NDVI.csv\")\n",
    "blanks_0809 = pd.read_csv(\"D:\\\\masters_data\\\\output\\\\csv\\\\NDVI\\\\0809_decrease_NDVI.csv\")\n",
    "blanks_0910 = pd.read_csv(\"D:\\\\masters_data\\\\output\\\\csv\\\\NDVI\\\\0910_decrease_NDVI.csv\")\n",
    "blanks_1011 = pd.read_csv(\"D:\\\\masters_data\\\\output\\\\csv\\\\NDVI\\\\1011_decrease_NDVI.csv\")\n",
    "blanks_1112 = pd.read_csv(\"D:\\\\masters_data\\\\output\\\\csv\\\\NDVI\\\\1112_decrease_NDVI.csv\")\n",
    "blanks_1213 = pd.read_csv(\"D:\\\\masters_data\\\\output\\\\csv\\\\NDVI\\\\1213_decrease_NDVI.csv\")\n",
    "blanks_1314 = pd.read_csv(\"D:\\\\masters_data\\\\output\\\\csv\\\\NDVI\\\\1314_decrease_NDVI.csv\")\n",
    "blanks_1415 = pd.read_csv(\"D:\\\\masters_data\\\\output\\\\csv\\\\NDVI\\\\1415_decrease_NDVI.csv\")\n",
    "blanks_1516 = pd.read_csv(\"D:\\\\masters_data\\\\output\\\\csv\\\\NDVI\\\\1516_decrease_NDVI.csv\")\n",
    "blanks_1617 = pd.read_csv(\"D:\\\\masters_data\\\\output\\\\csv\\\\NDVI\\\\1617_decrease_NDVI.csv\")\n",
    "blanks_1718 = pd.read_csv(\"D:\\\\masters_data\\\\output\\\\csv\\\\NDVI\\\\1718_decrease_NDVI.csv\")\n",
    "blanks_1819 = pd.read_csv(\"D:\\\\masters_data\\\\output\\\\csv\\\\NDVI\\\\1819_decrease_NDVI.csv\")"
   ]
  },
  {
   "cell_type": "code",
   "execution_count": 4,
   "metadata": {},
   "outputs": [],
   "source": [
    "VI_mean_2002 = pd.read_csv(\"D:\\\\masters_data\\\\output\\\\csv\\\\NDVI\\\\VI_blanks_2002.csv\")\n",
    "VI_mean_2003 = pd.read_csv(\"D:\\\\masters_data\\\\output\\\\csv\\\\NDVI\\\\VI_blanks_2003.csv\")\n",
    "VI_mean_2004 = pd.read_csv(\"D:\\\\masters_data\\\\output\\\\csv\\\\NDVI\\\\VI_blanks_2004.csv\")\n",
    "VI_mean_2005 = pd.read_csv(\"D:\\\\masters_data\\\\output\\\\csv\\\\NDVI\\\\VI_blanks_2005.csv\")\n",
    "VI_mean_2006 = pd.read_csv(\"D:\\\\masters_data\\\\output\\\\csv\\\\NDVI\\\\VI_blanks_2006.csv\")\n",
    "VI_mean_2007 = pd.read_csv(\"D:\\\\masters_data\\\\output\\\\csv\\\\NDVI\\\\VI_blanks_2007.csv\")\n",
    "VI_mean_2008 = pd.read_csv(\"D:\\\\masters_data\\\\output\\\\csv\\\\NDVI\\\\VI_blanks_2008.csv\")\n",
    "VI_mean_2009 = pd.read_csv(\"D:\\\\masters_data\\\\output\\\\csv\\\\NDVI\\\\VI_blanks_2009.csv\")\n",
    "VI_mean_2010 = pd.read_csv(\"D:\\\\masters_data\\\\output\\\\csv\\\\NDVI\\\\VI_blanks_2010.csv\")\n",
    "VI_mean_2011 = pd.read_csv(\"D:\\\\masters_data\\\\output\\\\csv\\\\NDVI\\\\VI_blanks_2011.csv\")\n",
    "VI_mean_2012 = pd.read_csv(\"D:\\\\masters_data\\\\output\\\\csv\\\\NDVI\\\\VI_blanks_2012.csv\")\n",
    "VI_mean_2013 = pd.read_csv(\"D:\\\\masters_data\\\\output\\\\csv\\\\NDVI\\\\VI_blanks_2013.csv\")\n",
    "VI_mean_2014 = pd.read_csv(\"D:\\\\masters_data\\\\output\\\\csv\\\\NDVI\\\\VI_blanks_2014.csv\")\n",
    "VI_mean_2015 = pd.read_csv(\"D:\\\\masters_data\\\\output\\\\csv\\\\NDVI\\\\VI_blanks_2015.csv\")\n",
    "VI_mean_2016 = pd.read_csv(\"D:\\\\masters_data\\\\output\\\\csv\\\\NDVI\\\\VI_blanks_2016.csv\")\n",
    "VI_mean_2017 = pd.read_csv(\"D:\\\\masters_data\\\\output\\\\csv\\\\NDVI\\\\VI_blanks_2017.csv\")\n",
    "VI_mean_2018 = pd.read_csv(\"D:\\\\masters_data\\\\output\\\\csv\\\\NDVI\\\\VI_blanks_2018.csv\")\n",
    "VI_mean_2019 = pd.read_csv(\"D:\\\\masters_data\\\\output\\\\csv\\\\NDVI\\\\VI_blanks_2019.csv\")"
   ]
  },
  {
   "cell_type": "code",
   "execution_count": 5,
   "metadata": {},
   "outputs": [],
   "source": [
    "LC_2002 = pd.read_csv(\"D:\\\\masters_data\\\\output\\\\csv\\\\NDVI\\\\LC_2002.csv\")\n",
    "LC_2003 = pd.read_csv(\"D:\\\\masters_data\\\\output\\\\csv\\\\NDVI\\\\LC_2003.csv\")\n",
    "LC_2004 = pd.read_csv(\"D:\\\\masters_data\\\\output\\\\csv\\\\NDVI\\\\LC_2004.csv\")\n",
    "LC_2005 = pd.read_csv(\"D:\\\\masters_data\\\\output\\\\csv\\\\NDVI\\\\LC_2005.csv\")\n",
    "LC_2006 = pd.read_csv(\"D:\\\\masters_data\\\\output\\\\csv\\\\NDVI\\\\LC_2006.csv\")\n",
    "LC_2007 = pd.read_csv(\"D:\\\\masters_data\\\\output\\\\csv\\\\NDVI\\\\LC_2007.csv\")\n",
    "LC_2008 = pd.read_csv(\"D:\\\\masters_data\\\\output\\\\csv\\\\NDVI\\\\LC_2008.csv\")\n",
    "LC_2009 = pd.read_csv(\"D:\\\\masters_data\\\\output\\\\csv\\\\NDVI\\\\LC_2009.csv\")\n",
    "LC_2010 = pd.read_csv(\"D:\\\\masters_data\\\\output\\\\csv\\\\NDVI\\\\LC_2010.csv\")\n",
    "LC_2011 = pd.read_csv(\"D:\\\\masters_data\\\\output\\\\csv\\\\NDVI\\\\LC_2011.csv\")\n",
    "LC_2012 = pd.read_csv(\"D:\\\\masters_data\\\\output\\\\csv\\\\NDVI\\\\LC_2012.csv\")\n",
    "LC_2013 = pd.read_csv(\"D:\\\\masters_data\\\\output\\\\csv\\\\NDVI\\\\LC_2013.csv\")\n",
    "LC_2014 = pd.read_csv(\"D:\\\\masters_data\\\\output\\\\csv\\\\NDVI\\\\LC_2014.csv\")\n",
    "LC_2015 = pd.read_csv(\"D:\\\\masters_data\\\\output\\\\csv\\\\NDVI\\\\LC_2015.csv\")\n",
    "LC_2016 = pd.read_csv(\"D:\\\\masters_data\\\\output\\\\csv\\\\NDVI\\\\LC_2016.csv\")\n",
    "LC_2017 = pd.read_csv(\"D:\\\\masters_data\\\\output\\\\csv\\\\NDVI\\\\LC_2017.csv\")\n",
    "LC_2018 = pd.read_csv(\"D:\\\\masters_data\\\\output\\\\csv\\\\NDVI\\\\LC_2018.csv\")\n",
    "LC_2019 = pd.read_csv(\"D:\\\\masters_data\\\\output\\\\csv\\\\NDVI\\\\LC_2019.csv\")"
   ]
  },
  {
   "cell_type": "code",
   "execution_count": 6,
   "metadata": {},
   "outputs": [],
   "source": [
    "VI_mean_2002[LC_2002==0] = np.nan\n",
    "VI_mean_2003[LC_2003==0] = np.nan\n",
    "VI_mean_2004[LC_2004==0] = np.nan\n",
    "VI_mean_2005[LC_2005==0] = np.nan\n",
    "VI_mean_2006[LC_2006==0] = np.nan\n",
    "VI_mean_2007[LC_2007==0] = np.nan\n",
    "VI_mean_2008[LC_2008==0] = np.nan\n",
    "VI_mean_2009[LC_2009==0] = np.nan\n",
    "VI_mean_2010[LC_2010==0] = np.nan\n",
    "VI_mean_2011[LC_2011==0] = np.nan\n",
    "VI_mean_2012[LC_2012==0] = np.nan\n",
    "VI_mean_2013[LC_2013==0] = np.nan\n",
    "VI_mean_2014[LC_2014==0] = np.nan\n",
    "VI_mean_2015[LC_2015==0] = np.nan\n",
    "VI_mean_2016[LC_2016==0] = np.nan\n",
    "VI_mean_2017[LC_2017==0] = np.nan\n",
    "VI_mean_2018[LC_2018==0] = np.nan"
   ]
  },
  {
   "cell_type": "code",
   "execution_count": 7,
   "metadata": {},
   "outputs": [],
   "source": [
    "blanks_0203[LC_2002==0] = np.nan\n",
    "blanks_0304[LC_2003==0] = np.nan\n",
    "blanks_0405[LC_2004==0] = np.nan\n",
    "blanks_0506[LC_2005==0] = np.nan\n",
    "blanks_0607[LC_2006==0] = np.nan\n",
    "blanks_0708[LC_2007==0] = np.nan\n",
    "blanks_0809[LC_2008==0] = np.nan\n",
    "blanks_0910[LC_2009==0] = np.nan\n",
    "blanks_1011[LC_2010==0] = np.nan\n",
    "blanks_1112[LC_2011==0] = np.nan\n",
    "blanks_1213[LC_2012==0] = np.nan\n",
    "blanks_1314[LC_2013==0] = np.nan\n",
    "blanks_1415[LC_2014==0] = np.nan\n",
    "blanks_1516[LC_2015==0] = np.nan\n",
    "blanks_1617[LC_2016==0] = np.nan\n",
    "blanks_1718[LC_2017==0] = np.nan\n",
    "blanks_1819[LC_2018==0] = np.nan"
   ]
  },
  {
   "cell_type": "code",
   "execution_count": 8,
   "metadata": {},
   "outputs": [],
   "source": [
    "decrease_0203 = round(np.nanmean(blanks_0203), 2)\n",
    "decrease_0304 = round(np.nanmean(blanks_0304), 2)\n",
    "decrease_0405 = round(np.nanmean(blanks_0405), 2)\n",
    "decrease_0506 = round(np.nanmean(blanks_0506), 2)\n",
    "decrease_0607 = round(np.nanmean(blanks_0607), 2)\n",
    "decrease_0708 = round(np.nanmean(blanks_0708), 2)\n",
    "decrease_0809 = round(np.nanmean(blanks_0809), 2)\n",
    "decrease_0910 = round(np.nanmean(blanks_0910), 2)\n",
    "decrease_1011 = round(np.nanmean(blanks_1011), 2)\n",
    "decrease_1112 = round(np.nanmean(blanks_1112), 2)\n",
    "decrease_1213 = round(np.nanmean(blanks_1213), 2)\n",
    "decrease_1314 = round(np.nanmean(blanks_1314), 2)\n",
    "decrease_1415 = round(np.nanmean(blanks_1415), 2)\n",
    "decrease_1516 = round(np.nanmean(blanks_1516), 2)\n",
    "decrease_1617 = round(np.nanmean(blanks_1617), 2)\n",
    "decrease_1718 = round(np.nanmean(blanks_1718), 2)\n",
    "decrease_1819 = round(np.nanmean(blanks_1819), 2)"
   ]
  },
  {
   "cell_type": "code",
   "execution_count": 9,
   "metadata": {},
   "outputs": [],
   "source": [
    "standard_0203 = round(np.nanmean(VI_mean_2002), 2)\n",
    "standard_0304 = round(np.nanmean(VI_mean_2003), 2)\n",
    "standard_0405 = round(np.nanmean(VI_mean_2004), 2)\n",
    "standard_0506 = round(np.nanmean(VI_mean_2005), 2)\n",
    "standard_0607 = round(np.nanmean(VI_mean_2006), 2)\n",
    "standard_0708 = round(np.nanmean(VI_mean_2007), 2)\n",
    "standard_0809 = round(np.nanmean(VI_mean_2008), 2)\n",
    "standard_0910 = round(np.nanmean(VI_mean_2009), 2)\n",
    "standard_1011 = round(np.nanmean(VI_mean_2010), 2)\n",
    "standard_1112 = round(np.nanmean(VI_mean_2011), 2)\n",
    "standard_1213 = round(np.nanmean(VI_mean_2012), 2)\n",
    "standard_1314 = round(np.nanmean(VI_mean_2013), 2)\n",
    "standard_1415 = round(np.nanmean(VI_mean_2014), 2)\n",
    "standard_1516 = round(np.nanmean(VI_mean_2015), 2)\n",
    "standard_1617 = round(np.nanmean(VI_mean_2016), 2)\n",
    "standard_1718 = round(np.nanmean(VI_mean_2017), 2)\n",
    "standard_1819 = round(np.nanmean(VI_mean_2018), 2)"
   ]
  },
  {
   "cell_type": "code",
   "execution_count": 10,
   "metadata": {},
   "outputs": [],
   "source": [
    "decrease = [decrease_0203, decrease_0304, decrease_0405, decrease_0506, decrease_0607,\n",
    "    decrease_0708, decrease_0809,decrease_0910, decrease_1011, decrease_1112,\n",
    "    decrease_1213, decrease_1314, decrease_1415,decrease_1516, decrease_1617,decrease_1718, decrease_1819\n",
    "]\n",
    "\n",
    "standard = [\n",
    "    standard_0203, standard_0304, standard_0405, standard_0506, standard_0607,\n",
    "    standard_0708, standard_0809,standard_0910, standard_1011, standard_1112,\n",
    "    standard_1213, standard_1314, standard_1415, standard_1516, standard_1617,\n",
    "    standard_1718, standard_1819\n",
    "]\n"
   ]
  },
  {
   "cell_type": "code",
   "execution_count": 11,
   "metadata": {},
   "outputs": [
    {
     "name": "stdout",
     "output_type": "stream",
     "text": [
      "Year:  2002       sum: 152123.36       mean: 0.0264       min: 152123.36       max: 152123.36\n",
      "Year:  2003       sum: 152411.54       mean: 0.0265       min: 152411.54       max: 152411.54\n",
      "Year:  2004       sum: 152510.47       mean: 0.0265       min: 152510.47       max: 152510.47\n",
      "Year:  2005       sum: 151035.99       mean: 0.0262       min: 151035.99       max: 151035.99\n",
      "Year:  2006       sum: 153397.09       mean: 0.0266       min: 153397.09       max: 153397.09\n",
      "Year:  2007       sum: 152999.44       mean: 0.0266       min: 152999.44       max: 152999.44\n",
      "Year:  2008       sum: 152999.44       mean: 0.0266       min: 152999.44       max: 152999.44\n",
      "Year:  2009       sum: 154201.89       mean: 0.0268       min: 154201.89       max: 154201.89\n",
      "Year:  2010       sum: 153905.98       mean: 0.0267       min: 153905.98       max: 153905.98\n",
      "Year:  2011       sum: 153034.24       mean: 0.0266       min: 153034.24       max: 153034.24\n",
      "Year:  2012       sum: 149973.92       mean: 0.0260       min: 149973.92       max: 149973.92\n",
      "Year:  2013       sum: 156167.91       mean: 0.0271       min: 156167.91       max: 156167.91\n",
      "Year:  2014       sum: 157759.83       mean: 0.0274       min: 157759.83       max: 157759.83\n",
      "Year:  2015       sum: 157285.28       mean: 0.0273       min: 157285.28       max: 157285.28\n",
      "Year:  2016       sum: 149871.95       mean: 0.0260       min: 149871.95       max: 149871.95\n",
      "Year:  2017       sum: 157434.2       mean: 0.0273       min: 157434.2       max: 157434.2\n",
      "Year:  2018       sum: 158762.41       mean: 0.0276       min: 158762.41       max: 158762.41\n"
     ]
    }
   ],
   "source": [
    "year = []\n",
    "_sum = []\n",
    "mean = []\n",
    "_min = []\n",
    "_max = []\n",
    "\n",
    "for i in range(17):\n",
    "    print(\"Year:  {}       sum: {}       mean: {}       min: {}       max: {}\"\n",
    "          . format(i +2002, standard[i].sum(), \"{:.4f}\".format(standard[i].sum()/ (2400*2400)), standard[i].min(), standard[i].max()))\n",
    "    \n",
    "    year.append(i+2002)\n",
    "    _sum.append(standard[i].sum())\n",
    "    mean.append(\"{:.4f}\".format(standard[i].sum()/ (2400*2400)))\n",
    "    _min.append(standard[i].min())\n",
    "    _max.append(standard[i].max())\n",
    "    "
   ]
  },
  {
   "cell_type": "code",
   "execution_count": 12,
   "metadata": {},
   "outputs": [],
   "source": [
    "dates = [2002, 2003, 2004, 2005, 2006, 2007, 2008, 2009, 2010, 2011, 2012, 2013, 2014, 2015, 2016, 20017, 2018]"
   ]
  },
  {
   "cell_type": "code",
   "execution_count": 13,
   "metadata": {},
   "outputs": [
    {
     "data": {
      "image/png": "[encoded data removed]",
      "text/plain": [
       "<Figure size 432x288 with 1 Axes>"
      ]
     },
     "metadata": {
      "needs_background": "light"
     },
     "output_type": "display_data"
    }
   ],
   "source": [
    "# line 1 points\n",
    "x1 = year\n",
    "y1 = standard\n",
    "plt.plot(x1, y1, label = \"Overall mean\")\n",
    "\n",
    "# line 2 points\n",
    "x2 = year\n",
    "y2 = decrease\n",
    "plt.plot(x2, y2, label = \"Yearly decrease\")\n",
    "\n",
    "plt.xlabel('year')\n",
    "plt.ylabel('NDVI')\n",
    "\n",
    "plt.title('Yearly decrease versus Overall mean')\n",
    "plt.legend()\n",
    "plt.show()"
   ]
  },
  {
   "cell_type": "markdown",
   "metadata": {},
   "source": [
    "Not what we would expect to see. This says that the average NDVI for savannahs is lower in regions which experienced less burning than the year before compared to the mean. "
   ]
  },
  {
   "cell_type": "markdown",
   "metadata": {},
   "source": [
    "I think I know why this is. Places which have a decrease are still likely to be the high fire risk areas. The high fire risk areas are going to have a lower NDVI than the average savannahs. What I should do is create the categories like Niels suggested (Maybe 4 categories for the first 9 years, same for the last 9 years). I can then compare between categories and pixels that have changed from high frequency to lower frequency. I have also now got the mean canopy height working so that should probably be the priority to analyse."
   ]
  },
  {
   "cell_type": "code",
   "execution_count": 14,
   "metadata": {},
   "outputs": [],
   "source": [
    "# save text for analysis in another file - means I dont have to run through the code every time I want to analyse it\n",
    "np.savetxt(\"D:\\\\masters_data\\\\output\\\\csv\\\\NDVI\\\\0203_decrease_NDVI.csv\", blanks_0203, delimiter=\",\")\n",
    "np.savetxt(\"D:\\\\masters_data\\\\output\\\\csv\\\\NDVI\\\\0304_decrease_NDVI.csv\", blanks_0304, delimiter=\",\")\n",
    "np.savetxt(\"D:\\\\masters_data\\\\output\\\\csv\\\\NDVI\\\\0405_decrease_NDVI.csv\", blanks_0405, delimiter=\",\")\n",
    "np.savetxt(\"D:\\\\masters_data\\\\output\\\\csv\\\\NDVI\\\\0506_decrease_NDVI.csv\", blanks_0506, delimiter=\",\")\n",
    "np.savetxt(\"D:\\\\masters_data\\\\output\\\\csv\\\\NDVI\\\\0607_decrease_NDVI.csv\", blanks_0607, delimiter=\",\")\n",
    "np.savetxt(\"D:\\\\masters_data\\\\output\\\\csv\\\\NDVI\\\\0708_decrease_NDVI.csv\", blanks_0708, delimiter=\",\")\n",
    "np.savetxt(\"D:\\\\masters_data\\\\output\\\\csv\\\\NDVI\\\\0809_decrease_NDVI.csv\", blanks_0809, delimiter=\",\")\n",
    "np.savetxt(\"D:\\\\masters_data\\\\output\\\\csv\\\\NDVI\\\\0910_decrease_NDVI.csv\", blanks_0910, delimiter=\",\")\n",
    "np.savetxt(\"D:\\\\masters_data\\\\output\\\\csv\\\\NDVI\\\\1011_decrease_NDVI.csv\", blanks_1011, delimiter=\",\")\n",
    "np.savetxt(\"D:\\\\masters_data\\\\output\\\\csv\\\\NDVI\\\\1112_decrease_NDVI.csv\", blanks_1112, delimiter=\",\")\n",
    "np.savetxt(\"D:\\\\masters_data\\\\output\\\\csv\\\\NDVI\\\\1213_decrease_NDVI.csv\", blanks_1213, delimiter=\",\")\n",
    "np.savetxt(\"D:\\\\masters_data\\\\output\\\\csv\\\\NDVI\\\\1314_decrease_NDVI.csv\", blanks_1314, delimiter=\",\")\n",
    "np.savetxt(\"D:\\\\masters_data\\\\output\\\\csv\\\\NDVI\\\\1415_decrease_NDVI.csv\", blanks_1415, delimiter=\",\")\n",
    "np.savetxt(\"D:\\\\masters_data\\\\output\\\\csv\\\\NDVI\\\\1516_decrease_NDVI.csv\", blanks_1516, delimiter=\",\")\n",
    "np.savetxt(\"D:\\\\masters_data\\\\output\\\\csv\\\\NDVI\\\\1617_decrease_NDVI.csv\", blanks_1617, delimiter=\",\")\n",
    "np.savetxt(\"D:\\\\masters_data\\\\output\\\\csv\\\\NDVI\\\\1718_decrease_NDVI.csv\", blanks_1718, delimiter=\",\")\n",
    "np.savetxt(\"D:\\\\masters_data\\\\output\\\\csv\\\\NDVI\\\\1819_decrease_NDVI.csv\", blanks_1819, delimiter=\",\")"
   ]
  },
  {
   "cell_type": "code",
   "execution_count": 15,
   "metadata": {},
   "outputs": [],
   "source": [
    "# save text for analysis in another file - means I dont have to run through the code every time I want to analyse it\n",
    "np.savetxt(\"D:\\\\masters_data\\\\output\\\\csv\\\\NDVI\\\\VI_blanks_2002.csv\", VI_mean_2002, delimiter=\",\")\n",
    "np.savetxt(\"D:\\\\masters_data\\\\output\\\\csv\\\\NDVI\\\\VI_blanks_2003.csv\", VI_mean_2003, delimiter=\",\")\n",
    "np.savetxt(\"D:\\\\masters_data\\\\output\\\\csv\\\\NDVI\\\\VI_blanks_2004.csv\", VI_mean_2004, delimiter=\",\")\n",
    "np.savetxt(\"D:\\\\masters_data\\\\output\\\\csv\\\\NDVI\\\\VI_blanks_2005.csv\", VI_mean_2005, delimiter=\",\")\n",
    "np.savetxt(\"D:\\\\masters_data\\\\output\\\\csv\\\\NDVI\\\\VI_blanks_2006.csv\", VI_mean_2006, delimiter=\",\")\n",
    "np.savetxt(\"D:\\\\masters_data\\\\output\\\\csv\\\\NDVI\\\\VI_blanks_2007.csv\", VI_mean_2007, delimiter=\",\")\n",
    "np.savetxt(\"D:\\\\masters_data\\\\output\\\\csv\\\\NDVI\\\\VI_blanks_2008.csv\", VI_mean_2007, delimiter=\",\")\n",
    "np.savetxt(\"D:\\\\masters_data\\\\output\\\\csv\\\\NDVI\\\\VI_blanks_2009.csv\", VI_mean_2009, delimiter=\",\")\n",
    "np.savetxt(\"D:\\\\masters_data\\\\output\\\\csv\\\\NDVI\\\\VI_blanks_2010.csv\", VI_mean_2010, delimiter=\",\")\n",
    "np.savetxt(\"D:\\\\masters_data\\\\output\\\\csv\\\\NDVI\\\\VI_blanks_2011.csv\", VI_mean_2011, delimiter=\",\")\n",
    "np.savetxt(\"D:\\\\masters_data\\\\output\\\\csv\\\\NDVI\\\\VI_blanks_2012.csv\", VI_mean_2012, delimiter=\",\")\n",
    "np.savetxt(\"D:\\\\masters_data\\\\output\\\\csv\\\\NDVI\\\\VI_blanks_2013.csv\", VI_mean_2013, delimiter=\",\")\n",
    "np.savetxt(\"D:\\\\masters_data\\\\output\\\\csv\\\\NDVI\\\\VI_blanks_2014.csv\", VI_mean_2014, delimiter=\",\")\n",
    "np.savetxt(\"D:\\\\masters_data\\\\output\\\\csv\\\\NDVI\\\\VI_blanks_2015.csv\", VI_mean_2015, delimiter=\",\")\n",
    "np.savetxt(\"D:\\\\masters_data\\\\output\\\\csv\\\\NDVI\\\\VI_blanks_2016.csv\", VI_mean_2016, delimiter=\",\")\n",
    "np.savetxt(\"D:\\\\masters_data\\\\output\\\\csv\\\\NDVI\\\\VI_blanks_2017.csv\", VI_mean_2017, delimiter=\",\")\n",
    "np.savetxt(\"D:\\\\masters_data\\\\output\\\\csv\\\\NDVI\\\\VI_blanks_2018.csv\", VI_mean_2018, delimiter=\",\")\n",
    "np.savetxt(\"D:\\\\masters_data\\\\output\\\\csv\\\\NDVI\\\\VI_blanks_2019.csv\", VI_mean_2019, delimiter=\",\")"
   ]
  }
 ],
 "metadata": {
  "kernelspec": {
   "display_name": "Python 3",
   "language": "python",
   "name": "python3"
  },
  "language_info": {
   "codemirror_mode": {
    "name": "ipython",
    "version": 3
   },
   "file_extension": ".py",
   "mimetype": "text/x-python",
   "name": "python",
   "nbconvert_exporter": "python",
   "pygments_lexer": "ipython3",
   "version": "3.8.5"
  }
 },
 "nbformat": 4,
 "nbformat_minor": 4
}
