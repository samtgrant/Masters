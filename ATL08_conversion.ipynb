{
 "cells": [
  {
   "cell_type": "code",
   "execution_count": 26,
   "metadata": {},
   "outputs": [],
   "source": [
    "import math\n",
    "import warnings\n",
    "warnings.filterwarnings('ignore')\n",
    "import numpy as np\n",
    "import numpy.ma as ma\n",
    "import pandas as pd\n",
    "import datetime as dt\n",
    "import matplotlib.pyplot as plt\n",
    "import cartopy.crs as ccrs\n",
    "import cartopy.crs as crs\n",
    "import cartopy.feature as cfeature\n",
    "import h5py  \n",
    "from astropy.time import Time\n",
    "import os\n",
    "import glob\n",
    "from osgeo import gdal\n",
    "import scipy.ndimage\n",
    "import rasterio as rio\n",
    "import re\n",
    "import geopandas as gpd\n",
    "import earthpy as et\n",
    "import earthpy.plot as ep\n",
    "import earthpy.spatial as es\n",
    "import earthpy.mask as em\n",
    "from pyhdf.SD import SD, SDC\n",
    "import pprint\n",
    "import matplotlib.colors as colors \n",
    "from mpl_toolkits.axes_grid1 import make_axes_locatable \n",
    "import csv\n",
    "import pprint\n",
    "import matplotlib.colors as colors \n",
    "from mpl_toolkits.axes_grid1 import make_axes_locatable "
   ]
  },
  {
   "cell_type": "code",
   "execution_count": 3,
   "metadata": {},
   "outputs": [],
   "source": [
    "# Set input directory, and change working directory - plug in D:\n",
    "inDir = \"D:\\\\masters_data\\\\ATL08\"   # I should change this so I can work from github?\n",
    "os.chdir(inDir)                                                               # Change to working directory\n",
    "outDir = os.path.normpath(os.path.split(inDir)[0] + os.sep + 'output') + '\\\\' # Create and set output directory\n",
    "if not os.path.exists(outDir): os.makedirs(outDir)"
   ]
  },
  {
   "cell_type": "code",
   "execution_count": 4,
   "metadata": {},
   "outputs": [
    {
     "name": "stdout",
     "output_type": "stream",
     "text": [
      "442\n",
      "ATL08_20190101101716_00610201_003_01.h5\n"
     ]
    }
   ],
   "source": [
    "# select first MODIS file\n",
    "ATL08Files = glob.glob('*ATL08*')\n",
    "print(len(ATL08Files))\n",
    "print(ATL08Files[0])"
   ]
  },
  {
   "cell_type": "code",
   "execution_count": 5,
   "metadata": {},
   "outputs": [],
   "source": [
    "# work with just one file first\n",
    "ATL08 = h5py.File(ATL08Files[0], 'r')"
   ]
  },
  {
   "cell_type": "code",
   "execution_count": 6,
   "metadata": {},
   "outputs": [],
   "source": [
    "ATL08_mean_canopy = ATL08['/gt2l/land_segments/canopy/h_mean_canopy'][:]\n",
    "ATL08_min_canopy = ATL08['/gt2l/land_segments/canopy/h_min_canopy'][:]\n",
    "ATL08_max_canopy = ATL08['/gt2l/land_segments/canopy/h_max_canopy'][:]\n",
    "ATL08_toc_roughness = ATL08['/gt2l/land_segments/canopy/toc_roughness'][:]\n",
    "ATL08_canopy_openness = ATL08['/gt2l/land_segments/canopy/canopy_openness'][:]\n",
    "\n",
    "ATL08_latitude = ATL08['/gt2l/land_segments/latitude'] [:]\n",
    "ATL08_longitude = ATL08['/gt2l/land_segments/longitude'][:]\n",
    "ATL08_dt = ATL08['/gt2l/land_segments/delta_time'][:]\n",
    "ATL08_segment_id_beg = ATL08['/gt2l/land_segments/segment_id_beg'][:]\n",
    "ATL08_segment_id_end = ATL08['/gt2l/land_segments/segment_id_end'][:]\n",
    "ATL08_canopy_rh_conf = ATL08['/gt2l/land_segments/canopy/canopy_rh_conf'][:]\n",
    "ATL08_ph_segment_id = ATL08['/gt2l/signal_photons/ph_segment_id'][:]"
   ]
  },
  {
   "cell_type": "code",
   "execution_count": 7,
   "metadata": {},
   "outputs": [],
   "source": [
    "# constants for conversion lat lon -> tile H,V and r,c\n",
    "R = 6371007.181\t    # the radius of the idealizes sphere representing the Earth\n",
    "T = 1111950\t        # the height and width of each MODIS tile in the projection plane\n",
    "Xmin = -20015109    # the western limit of the projection plane\n",
    "Ymax = 10007555\t    # the northern limit of the projection plane\n",
    "w = T/2400.0\t    # the actual size of a '500m' MODIS sinusoidal grid cell. (would be /1200 for a 1km grid)\n",
    "\n",
    "# equations\n",
    "lat = ATL08_latitude[0]\n",
    "lon = ATL08_longitude[0]\n",
    "phi = lat/(180/math.pi) # convert to radians\n",
    "lamb = lon/(180/math.pi)\n",
    "x = R*lamb*math.cos(phi)\n",
    "y = R*phi\n",
    "H = math.floor((x-Xmin)/T) # Horizontal tile number H\n",
    "V = math.floor((Ymax-y)/T) # Vertical tile number V\n",
    "r = int(math.floor(((Ymax-y)%T)/w-0.5))\n",
    "c = int(math.floor(((x-Xmin)%T)/w-0.5))"
   ]
  },
  {
   "cell_type": "code",
   "execution_count": 8,
   "metadata": {},
   "outputs": [
    {
     "name": "stdout",
     "output_type": "stream",
     "text": [
      "0.1344654\n",
      "22.70255\n",
      "\n",
      "Tile: \t\t H20V8\n",
      "Row: \t\t 2367\n",
      "Column: \t 648\n",
      "0.1344654\n"
     ]
    }
   ],
   "source": [
    "print(lat)\n",
    "print(lon)\n",
    "print()\n",
    "print(\"Tile: \\t\\t H{}V{}\".format(H, V))\n",
    "print(\"Row: \\t\\t {}\".format(r))\n",
    "print(\"Column: \\t {}\".format(c))\n",
    "print(ATL08_latitude[0])"
   ]
  },
  {
   "cell_type": "code",
   "execution_count": 9,
   "metadata": {
    "scrolled": false
   },
   "outputs": [],
   "source": [
    "# shows all ATL08 files naming convention made easier to read\n",
    "number = 0\n",
    "for i in ATL08Files:\n",
    "    productId1 = ATL08Files[number].split('_')[0]                                         \n",
    "    yeardoy = ATL08Files[number].split(productId1 + '_')[1].split('.')[0]                 \n",
    "    date = yeardoy[6:8] + \"/\" + yeardoy[4:6] + \"/\" + yeardoy[0:4]\n",
    "    # hour-minute-second\n",
    "    hhmmss = yeardoy[8:10] + \"-\" + yeardoy[10:12] + \"-\" + yeardoy[12:14]\n",
    "    ground_track = yeardoy[15:19]\n",
    "    cycle_number = yeardoy[19:21]\n",
    "    segment_number = yeardoy[21:23]\n",
    "\n",
    "#     print(\"ID: {}      date: {}      ground_track:{}      cycle_number: {}    segment number: {}     \"\n",
    "#          \"hhmmss: {}\".format(productId1, date, ground_track, cycle_number, segment_number, hhmmss))\n",
    "    number +=1\n"
   ]
  },
  {
   "cell_type": "code",
   "execution_count": 10,
   "metadata": {},
   "outputs": [
    {
     "name": "stdout",
     "output_type": "stream",
     "text": [
      "21071 out of 21071 are pixels from H20V08 tile\n"
     ]
    }
   ],
   "source": [
    "number = 0\n",
    "for i in ATL08_latitude: \n",
    "    str('%.2d' %H) + str('%.2d' %V)\n",
    "    pixels = ('H' + str('%.2d' %H) + 'V' + str('%.2d' %V))\n",
    "    if pixels != \"H20V08\":\n",
    "        print(pixels)\n",
    "    else:\n",
    "        number +=1\n",
    "\n",
    "print(\"{0} out of {1} are pixels from H20V08 tile\".format(number, len(ATL08_latitude)))"
   ]
  },
  {
   "cell_type": "markdown",
   "metadata": {},
   "source": [
    "now I want row / column list"
   ]
  },
  {
   "cell_type": "code",
   "execution_count": 11,
   "metadata": {},
   "outputs": [],
   "source": [
    "r_list = []\n",
    "c_list = []\n",
    "number = 0\n",
    "\n",
    "for i in ATL08_latitude:\n",
    "    lat = ATL08_latitude[number]\n",
    "    lon = ATL08_longitude[number]\n",
    "    phi = lat/(180/math.pi) # convert to radians\n",
    "    lamb = lon/(180/math.pi)\n",
    "    x = R*lamb*math.cos(phi)\n",
    "    y = R*phi\n",
    "    r = int(math.floor(((Ymax-y)%T)/w-0.5))\n",
    "    c = int(math.floor(((x-Xmin)%T)/w-0.5))\n",
    "    \n",
    "    r_list.append(r)\n",
    "    c_list.append(c)\n",
    "    number += 1"
   ]
  },
  {
   "cell_type": "code",
   "execution_count": 12,
   "metadata": {},
   "outputs": [],
   "source": [
    "canopy_height_array = np.zeros((2400,2400)) "
   ]
  },
  {
   "cell_type": "code",
   "execution_count": 13,
   "metadata": {},
   "outputs": [
    {
     "data": {
      "text/plain": [
       "array([3.3834064e+01, 3.9203651e+01, 5.1422920e+01, ..., 3.4028235e+38,\n",
       "       3.4028235e+38, 3.4028235e+38], dtype=float32)"
      ]
     },
     "execution_count": 13,
     "metadata": {},
     "output_type": "execute_result"
    }
   ],
   "source": [
    "ATL08_mean_canopy"
   ]
  },
  {
   "cell_type": "code",
   "execution_count": 14,
   "metadata": {},
   "outputs": [],
   "source": [
    "for i in range(len(ATL08_mean_canopy)):\n",
    "    row = r_list[i]\n",
    "    col = c_list[i]\n",
    "    canopy_h = ATL08_mean_canopy[i]\n",
    "    canopy_height_array[row, col] = canopy_h"
   ]
  },
  {
   "cell_type": "code",
   "execution_count": 15,
   "metadata": {},
   "outputs": [],
   "source": [
    "canopy_height_array[canopy_height_array == 0] = np.nan"
   ]
  },
  {
   "cell_type": "code",
   "execution_count": 17,
   "metadata": {},
   "outputs": [],
   "source": [
    "np.savetxt(\"D:\\\\masters_data\\\\output\\\\csv\\\\canopy_height_array.csv\", canopy_height_array, delimiter=\",\")"
   ]
  },
  {
   "cell_type": "markdown",
   "metadata": {},
   "source": [
    "bring in fire frequency for the H20V08 tile"
   ]
  },
  {
   "cell_type": "code",
   "execution_count": 18,
   "metadata": {},
   "outputs": [],
   "source": [
    "First_BA = pd.read_csv(\"D:\\\\masters_data\\\\output\\\\first_BA.csv\")\n",
    "Second_BA = pd.read_csv(\"D:\\\\masters_data\\\\output\\\\second_BA.csv\")"
   ]
  },
  {
   "cell_type": "code",
   "execution_count": 19,
   "metadata": {},
   "outputs": [],
   "source": [
    "First_LF =  np.zeros((2400, 2400))\n",
    "First_LF[First_LF == 0] = np.nan\n",
    "\n",
    "First_MLF =  np.zeros((2400, 2400))\n",
    "First_MLF[First_MLF == 0] = np.nan\n",
    "\n",
    "First_MHF =  np.zeros((2400, 2400))\n",
    "First_MHF[First_MHF == 0] = np.nan\n",
    "\n",
    "First_HF =  np.zeros((2400, 2400))\n",
    "First_HF[First_HF == 0] = np.nan"
   ]
  },
  {
   "cell_type": "code",
   "execution_count": 20,
   "metadata": {},
   "outputs": [],
   "source": [
    "First_LF_result = np.where(First_BA == 0)\n",
    "First_LF[First_LF_result] = canopy_height_array[First_LF_result]\n",
    "\n",
    "First_MLF_result = np.where((First_BA > 0) & (First_BA < 3))\n",
    "First_MLF[First_MLF_result] = canopy_height_array[First_MLF_result]\n",
    "\n",
    "First_MHF_result = np.where((First_BA > 2) & (First_BA < 10))\n",
    "First_MHF[First_MHF_result] = canopy_height_array[First_MHF_result]\n",
    "\n",
    "First_HF_result = np.where(First_BA > 10)\n",
    "First_HF[First_HF_result] = canopy_height_array[First_HF_result]"
   ]
  },
  {
   "cell_type": "code",
   "execution_count": 21,
   "metadata": {},
   "outputs": [],
   "source": [
    "Second_LF =  np.zeros((2400, 2400))\n",
    "Second_LF[Second_LF == 0] = np.nan\n",
    "\n",
    "Second_MLF =  np.zeros((2400, 2400))\n",
    "Second_MLF[Second_MLF == 0] = np.nan\n",
    "\n",
    "Second_MHF =  np.zeros((2400, 2400))\n",
    "Second_MHF[Second_MHF == 0] = np.nan\n",
    "\n",
    "Second_HF =  np.zeros((2400, 2400))\n",
    "Second_HF[Second_HF == 0] = np.nan"
   ]
  },
  {
   "cell_type": "code",
   "execution_count": 22,
   "metadata": {},
   "outputs": [],
   "source": [
    "Second_LF_result = np.where(Second_BA == 0)\n",
    "Second_LF[Second_LF_result] = canopy_height_array[Second_LF_result]\n",
    "\n",
    "Second_MLF_result = np.where((Second_BA > 0) & (Second_BA < 3))\n",
    "Second_MLF[Second_MLF_result] = canopy_height_array[Second_MLF_result]\n",
    "\n",
    "Second_MHF_result = np.where((Second_BA > 2) & (Second_BA < 10))\n",
    "Second_MHF[Second_MHF_result] = canopy_height_array[Second_MHF_result]\n",
    "\n",
    "Second_HF_result = np.where(Second_BA > 10)\n",
    "Second_HF[Second_HF_result] = canopy_height_array[Second_HF_result]"
   ]
  },
  {
   "cell_type": "code",
   "execution_count": 24,
   "metadata": {},
   "outputs": [
    {
     "name": "stdout",
     "output_type": "stream",
     "text": [
      "Mean of LF : 2.7640420763598922e+38 \n",
      "Mean of MLF : 3.0247319701202565e+38 \n",
      "Mean of MHF : 2.6031816811810828e+38 \n",
      "Mean of HF : 3.4028234663852886e+38 \n",
      "\n",
      "Mean of LF : 2.6917857271406014e+38 \n",
      "Mean of MLF : 3.0778127095268547e+38 \n",
      "Mean of MHF : 2.9621424994547613e+38 \n",
      "Mean of HF : 2.46411354462383e+38 \n"
     ]
    }
   ],
   "source": [
    "print(\"Mean of LF : {} \".format(np.nanmean(First_LF)))\n",
    "print(\"Mean of MLF : {} \".format(np.nanmean(First_MLF)))\n",
    "print(\"Mean of MHF : {} \".format(np.nanmean(First_MHF)))\n",
    "print(\"Mean of HF : {} \".format(np.nanmean(First_HF)))\n",
    "\n",
    "print()\n",
    "\n",
    "print(\"Mean of LF : {} \".format(np.nanmean(Second_LF)))\n",
    "print(\"Mean of MLF : {} \".format(np.nanmean(Second_MLF)))\n",
    "print(\"Mean of MHF : {} \".format(np.nanmean(Second_MHF)))\n",
    "print(\"Mean of HF : {} \".format(np.nanmean(Second_HF)))"
   ]
  },
  {
   "cell_type": "markdown",
   "metadata": {},
   "source": [
    "Not quite sure what the units of measure is for this. Also I need a way to for loop through all HDF files in this section"
   ]
  },
  {
   "cell_type": "code",
   "execution_count": 29,
   "metadata": {},
   "outputs": [
    {
     "data": {
      "image/png": "[encoded data removed]",
      "text/plain": [
       "<Figure size 432x288 with 2 Axes>"
      ]
     },
     "metadata": {
      "needs_background": "light"
     },
     "output_type": "display_data"
    }
   ],
   "source": [
    "# ignore - for some reason need this to run to make the next one work - sign of poor script!\n",
    "u = np.unique(First_LF) \n",
    "bounds = np.concatenate(([First_LF.min()], \n",
    "                         u[:-1]+np.diff(u)/2., \n",
    "                         [First_LF.max()]))\n",
    "    \n",
    "fig, axes = plt.subplots() \n",
    "img = axes.imshow(First_LF, cmap = \"OrRd\", \n",
    "                  ) \n",
    "divider = make_axes_locatable(axes) \n",
    "cax = divider.append_axes(\"right\", size =\"5 %\") \n",
    "  \n",
    "color_bar = plt.colorbar(img,  \n",
    "                        cax = cax) \n",
    "\n",
    "plt.show()"
   ]
  },
  {
   "cell_type": "code",
   "execution_count": 30,
   "metadata": {},
   "outputs": [
    {
     "data": {
      "image/png": "[encoded data removed]",
      "text/plain": [
       "<Figure size 432x288 with 8 Axes>"
      ]
     },
     "metadata": {
      "needs_background": "light"
     },
     "output_type": "display_data"
    }
   ],
   "source": [
    "# First_LF\n",
    "plt.subplot(2,4,1)\n",
    "color_map = plt.imshow(First_LF)\n",
    "plt.title(\"First_LF\")\n",
    "img = axes.imshow(First_LF, vmin = 0, cmap = \"PiYG\")\n",
    "plt.colorbar(img, cax = cax)\n",
    "color_map.set_cmap(\"Set2\")\n",
    "divider = make_axes_locatable(axes) \n",
    "cax = divider.append_axes(\"right\", size =\"5 %\")\n",
    "\n",
    "\n",
    "# First_MLF\n",
    "plt.subplot(2,4,2)\n",
    "color_map = plt.imshow(First_MLF)\n",
    "plt.title(\"First_MLF\")\n",
    "img = axes.imshow(First_MLF, vmin = 0, cmap = \"PiYG\")\n",
    "plt.colorbar(img, cax = cax)\n",
    "color_map.set_cmap(\"Set2\")\n",
    "divider = make_axes_locatable(axes) \n",
    "cax = divider.append_axes(\"right\", size =\"5 %\")\n",
    "\n",
    "\n",
    "# First_MHF\n",
    "plt.subplot(2,4,3)\n",
    "color_map = plt.imshow(First_MHF)\n",
    "plt.title(\"First_MHF\")\n",
    "img = axes.imshow(First_MHF, vmin = 0, cmap = \"PiYG\")\n",
    "plt.colorbar(img, cax = cax)\n",
    "color_map.set_cmap(\"Set2\")\n",
    "divider = make_axes_locatable(axes) \n",
    "cax = divider.append_axes(\"right\", size =\"5 %\")\n",
    "\n",
    "\n",
    "# First_HF\n",
    "plt.subplot(2,4,4)\n",
    "color_map = plt.imshow(First_HF)\n",
    "plt.title(\"First_HF\")\n",
    "img = axes.imshow(First_HF, vmin = 0, cmap = \"PiYG\")\n",
    "plt.colorbar(img, cax = cax)\n",
    "color_map.set_cmap(\"Set2\")\n",
    "divider = make_axes_locatable(axes) \n",
    "cax = divider.append_axes(\"right\", size =\"5 %\")\n",
    "\n",
    "\n",
    "# Second_LF\n",
    "plt.subplot(2,4,5)\n",
    "color_map = plt.imshow(Second_LF)\n",
    "plt.title(\"Second_LF\")\n",
    "img = axes.imshow(Second_LF, vmin = 0, cmap = \"PiYG\")\n",
    "plt.colorbar(img, cax = cax)\n",
    "color_map.set_cmap(\"Set2\")\n",
    "divider = make_axes_locatable(axes) \n",
    "cax = divider.append_axes(\"right\", size =\"5 %\")\n",
    "\n",
    "\n",
    "# Second_MLF\n",
    "plt.subplot(2,4,6)\n",
    "color_map = plt.imshow(Second_MLF)\n",
    "plt.title(\"Second_MLF\")\n",
    "img = axes.imshow(Second_MLF, vmin = 0, cmap = \"PiYG\")\n",
    "plt.colorbar(img, cax = cax)\n",
    "color_map.set_cmap(\"Set2\")\n",
    "divider = make_axes_locatable(axes) \n",
    "cax = divider.append_axes(\"right\", size =\"5 %\")\n",
    "\n",
    "\n",
    "# Second_MHF\n",
    "plt.subplot(2,4,7)\n",
    "color_map = plt.imshow(Second_MHF)\n",
    "plt.title(\"Second_MHF\")\n",
    "img = axes.imshow(Second_MHF, vmin = 0, cmap = \"PiYG\")\n",
    "plt.colorbar(img, cax = cax)\n",
    "color_map.set_cmap(\"Set2\")\n",
    "divider = make_axes_locatable(axes) \n",
    "cax = divider.append_axes(\"right\", size =\"5 %\")\n",
    "\n",
    "\n",
    "# Second_HF\n",
    "plt.subplot(2,4,8)\n",
    "color_map = plt.imshow(Second_HF)\n",
    "plt.title(\"Second_HF\")\n",
    "img = axes.imshow(Second_HF, vmin = 0, cmap = \"PiYG\")\n",
    "plt.colorbar(img, cax = cax)\n",
    "color_map.set_cmap(\"Set2\")\n",
    "divider = make_axes_locatable(axes) \n",
    "cax = divider.append_axes(\"right\", size =\"5 %\")"
   ]
  },
  {
   "cell_type": "markdown",
   "metadata": {},
   "source": [
    "Hmmm - probs should try and for loop it - probably just have almost no points - have a look in a csv file"
   ]
  },
  {
   "cell_type": "code",
   "execution_count": 34,
   "metadata": {},
   "outputs": [],
   "source": [
    "np.savetxt(\"C:\\\\Users\\\\samgr\\\\OneDrive\\\\Desktop\\\\First_LF.csv\", First_LF, delimiter=\",\")"
   ]
  },
  {
   "cell_type": "markdown",
   "metadata": {},
   "source": [
    "So, it does work but its just a very thin line - so next stage is to try and for loop through all the ATL08 files "
   ]
  },
  {
   "cell_type": "code",
   "execution_count": null,
   "metadata": {},
   "outputs": [],
   "source": []
  }
 ],
 "metadata": {
  "kernelspec": {
   "display_name": "Python 3",
   "language": "python",
   "name": "python3"
  },
  "language_info": {
   "codemirror_mode": {
    "name": "ipython",
    "version": 3
   },
   "file_extension": ".py",
   "mimetype": "text/x-python",
   "name": "python",
   "nbconvert_exporter": "python",
   "pygments_lexer": "ipython3",
   "version": "3.8.5"
  }
 },
 "nbformat": 4,
 "nbformat_minor": 4
}
