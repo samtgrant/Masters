{
 "cells": [
  {
   "cell_type": "code",
   "execution_count": 1,
   "metadata": {},
   "outputs": [],
   "source": [
    "import math\n",
    "import warnings\n",
    "warnings.filterwarnings('ignore')\n",
    "import numpy as np\n",
    "import numpy.ma as ma\n",
    "import pandas as pd\n",
    "import datetime as dt\n",
    "import matplotlib.pyplot as plt\n",
    "import cartopy.crs as ccrs\n",
    "import cartopy.crs as crs\n",
    "import cartopy.feature as cfeature\n",
    "import h5py  \n",
    "from astropy.time import Time\n",
    "import os\n",
    "import glob\n",
    "from osgeo import gdal\n",
    "import scipy.ndimage\n",
    "import rasterio as rio\n",
    "import re\n",
    "import geopandas as gpd\n",
    "import earthpy as et\n",
    "import earthpy.plot as ep\n",
    "import earthpy.spatial as es\n",
    "import earthpy.mask as em\n",
    "from pyhdf.SD import SD, SDC\n",
    "import pprint\n",
    "import matplotlib.colors as colors \n",
    "from mpl_toolkits.axes_grid1 import make_axes_locatable \n",
    "import csv\n",
    "import pprint\n",
    "import matplotlib.colors as colors \n",
    "from mpl_toolkits.axes_grid1 import make_axes_locatable "
   ]
  },
  {
   "cell_type": "code",
   "execution_count": 2,
   "metadata": {},
   "outputs": [],
   "source": [
    "# Set input directory, and change working directory - plug in D:\n",
    "inDir = \"D:\\\\masters_data\\\\ATL08\"   # I should change this so I can work from github?\n",
    "os.chdir(inDir)                                                               # Change to working directory\n",
    "outDir = os.path.normpath(os.path.split(inDir)[0] + os.sep + 'output') + '\\\\' # Create and set output directory\n",
    "if not os.path.exists(outDir): os.makedirs(outDir)"
   ]
  },
  {
   "cell_type": "code",
   "execution_count": 3,
   "metadata": {},
   "outputs": [],
   "source": [
    "# select first MODIS file\n",
    "ATL08Files = glob.glob('*ATL08*')\n",
    "# print(len(ATL08Files))"
   ]
  },
  {
   "cell_type": "code",
   "execution_count": 4,
   "metadata": {},
   "outputs": [],
   "source": [
    "# constants for conversion lat lon -> tile H,V and r,c\n",
    "R = 6371007.181\t    # the radius of the idealizes sphere representing the Earth\n",
    "T = 1111950\t        # the height and width of each MODIS tile in the projection plane\n",
    "Xmin = -20015109    # the western limit of the projection plane\n",
    "Ymax = 10007555\t    # the northern limit of the projection plane\n",
    "w = T/2400.0\t    # the actual size of a '500m' MODIS sinusoidal grid cell. (would be /1200 for a 1km grid)"
   ]
  },
  {
   "cell_type": "code",
   "execution_count": 5,
   "metadata": {},
   "outputs": [],
   "source": [
    "canopy_height_array = np.zeros((2400,2400))\n",
    "# canopy_height_array[canopy_height_array ==0] = np.nan\n",
    "Filenumber = 0\n",
    "ATL08 = h5py.File(ATL08Files[Filenumber], 'r')\n",
    "ATL08_latitude = ATL08['/gt2l/land_segments/latitude'] [:]\n",
    "ATL08_longitude = ATL08['/gt2l/land_segments/longitude'][:]\n",
    "ATL08_mean_canopy = ATL08['/gt2l/land_segments/canopy/h_mean_canopy'][:]\n",
    "\n",
    "\n",
    "for file in ATL08Files:\n",
    "    number = 0\n",
    "    r_list = []\n",
    "    c_list = []\n",
    "\n",
    "    for i in ATL08_latitude:\n",
    "        lat = ATL08_latitude[number]\n",
    "        lon = ATL08_longitude[number]\n",
    "        phi = lat/(180/math.pi) # convert to radians\n",
    "        lamb = lon/(180/math.pi)\n",
    "        x = R*lamb*math.cos(phi)\n",
    "        y = R*phi\n",
    "        r = int(math.floor(((Ymax-y)%T)/w-0.5))\n",
    "        c = int(math.floor(((x-Xmin)%T)/w-0.5))\n",
    "\n",
    "        r_list.append(r)\n",
    "        c_list.append(c)\n",
    "        number += 1\n",
    "        \n",
    "    for ii in range(len(ATL08_mean_canopy)):\n",
    "        row = r_list[ii]\n",
    "        col = c_list[ii]\n",
    "        canopy_h = ATL08_mean_canopy[ii]\n",
    "        canopy_height_array[row, col] = canopy_h\n",
    "    \n",
    "    Filenumber += 1"
   ]
  },
  {
   "cell_type": "code",
   "execution_count": 6,
   "metadata": {},
   "outputs": [],
   "source": [
    "np.savetxt(\"D:\\\\masters_data\\\\output\\\\csv\\\\total_canopy_height_array_(meancanopyfile).csv\", canopy_height_array, delimiter=\",\")"
   ]
  },
  {
   "cell_type": "code",
   "execution_count": 17,
   "metadata": {},
   "outputs": [
    {
     "data": {
      "image/png": "[encoded data removed]",
      "text/plain": [
       "<Figure size 432x288 with 2 Axes>"
      ]
     },
     "metadata": {
      "needs_background": "light"
     },
     "output_type": "display_data"
    }
   ],
   "source": [
    "# ignore - for some reason need this to run to make the next one work - sign of poor script!\n",
    "u = np.unique(canopy_height_array) \n",
    "bounds = np.concatenate(([canopy_height_array.min()], \n",
    "                         u[:-1]+np.diff(u)/2., \n",
    "                         [canopy_height_array.max()]))\n",
    "    \n",
    "fig, axes = plt.subplots() \n",
    "img = axes.imshow(canopy_height_array, cmap = \"flag\") \n",
    "divider = make_axes_locatable(axes) \n",
    "cax = divider.append_axes(\"right\", size =\"5 %\") \n",
    "  \n",
    "color_bar = plt.colorbar(img, cax = cax) \n",
    "\n",
    "plt.show()"
   ]
  },
  {
   "cell_type": "markdown",
   "metadata": {},
   "source": [
    "NOTES for bpok (12/01/21): Not very much data in csv output file - is code working / do I have enough ATL08 data. If i just dowloaded a year I should rly keep downloading. \n",
    "\n",
    "Also - if i get a lot of data I need to check no areas have two overlapping lines - would then have the wrong data"
   ]
  }
 ],
 "metadata": {
  "kernelspec": {
   "display_name": "Python 3",
   "language": "python",
   "name": "python3"
  },
  "language_info": {
   "codemirror_mode": {
    "name": "ipython",
    "version": 3
   },
   "file_extension": ".py",
   "mimetype": "text/x-python",
   "name": "python",
   "nbconvert_exporter": "python",
   "pygments_lexer": "ipython3",
   "version": "3.8.5"
  }
 },
 "nbformat": 4,
 "nbformat_minor": 4
}
