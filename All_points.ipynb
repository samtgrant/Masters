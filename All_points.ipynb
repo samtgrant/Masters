{
 "cells": [
  {
   "cell_type": "code",
   "execution_count": 1,
   "metadata": {},
   "outputs": [],
   "source": [
    "import math\n",
    "import warnings\n",
    "warnings.filterwarnings('ignore')\n",
    "import numpy as np\n",
    "import numpy.ma as ma\n",
    "import pandas as pd\n",
    "import datetime as dt\n",
    "import matplotlib.pyplot as plt\n",
    "import cartopy.crs as ccrs\n",
    "import cartopy.crs as crs\n",
    "import cartopy.feature as cfeature\n",
    "import h5py  \n",
    "from astropy.time import Time\n",
    "import os\n",
    "import glob\n",
    "from osgeo import gdal\n",
    "import scipy.ndimage\n",
    "import rasterio as rio\n",
    "import re\n",
    "import geopandas as gpd\n",
    "import earthpy as et\n",
    "import earthpy.plot as ep\n",
    "import earthpy.spatial as es\n",
    "import earthpy.mask as em\n",
    "from pyhdf.SD import SD, SDC\n",
    "import pprint\n",
    "import matplotlib.colors as colors \n",
    "from mpl_toolkits.axes_grid1 import make_axes_locatable \n",
    "import csv\n",
    "import pprint\n",
    "import matplotlib.colors as colors \n",
    "from mpl_toolkits.axes_grid1 import make_axes_locatable "
   ]
  },
  {
   "cell_type": "code",
   "execution_count": 2,
   "metadata": {},
   "outputs": [],
   "source": [
    "# Set input directory, and change working directory - plug in D:\n",
    "inDir = \"D:\\\\masters_data\\\\ATL08\"   # I should change this so I can work from github?\n",
    "os.chdir(inDir)                                                               # Change to working directory\n",
    "outDir = os.path.normpath(os.path.split(inDir)[0] + os.sep + 'output') + '\\\\' # Create and set output directory\n",
    "if not os.path.exists(outDir): os.makedirs(outDir)"
   ]
  },
  {
   "cell_type": "code",
   "execution_count": 3,
   "metadata": {},
   "outputs": [],
   "source": [
    "# select first MODIS file\n",
    "ATL08Files = glob.glob('*ATL08*')\n",
    "ATL08 = h5py.File(ATL08Files[0], 'r')"
   ]
  },
  {
   "cell_type": "code",
   "execution_count": 4,
   "metadata": {},
   "outputs": [],
   "source": [
    "mean_canopy = ATL08['/gt1r/land_segments/canopy/h_mean_canopy'][:]\n",
    "latitude = ATL08['/gt1r/land_segments/latitude'] [:]\n",
    "longitude = ATL08['/gt1r/land_segments/longitude'][:]\n",
    "\n",
    "df08=pd.DataFrame({'latitude':latitude,'longitude':longitude, 'mean_canopy': mean_canopy})"
   ]
  },
  {
   "cell_type": "code",
   "execution_count": 5,
   "metadata": {},
   "outputs": [],
   "source": [
    "np.savetxt(\"D:\\\\masters_data\\\\output\\\\csv\\\\df08_points.csv\", df08, delimiter=\",\")"
   ]
  },
  {
   "cell_type": "code",
   "execution_count": 15,
   "metadata": {},
   "outputs": [],
   "source": [
    "d = {}\n",
    "number = 0\n",
    "\n",
    "\n",
    "for file in ATL08Files:\n",
    "    FILE = h5py.File(ATL08Files[number], 'r')\n",
    "    mean_canopy = FILE['/gt1r/land_segments/canopy/h_mean_canopy'][:]\n",
    "    latitude = FILE['/gt1r/land_segments/latitude'] [:]\n",
    "    longitude = FILE['/gt1r/land_segments/longitude'][:]\n",
    "    \n",
    "    d[number] = pd.DataFrame({'latitude':latitude,'longitude':longitude, 'mean_canopy': mean_canopy})\n",
    "    number += 1"
   ]
  },
  {
   "cell_type": "code",
   "execution_count": 35,
   "metadata": {},
   "outputs": [],
   "source": [
    "all_points = pd.concat(d)"
   ]
  },
  {
   "cell_type": "code",
   "execution_count": 36,
   "metadata": {},
   "outputs": [],
   "source": [
    "all_points = all_points[all_points.longitude > 14]\n",
    "all_points = all_points[all_points.longitude < 27.6]\n",
    "all_points = all_points[all_points.latitude > 2]\n",
    "all_points = all_points[all_points.latitude < 11]"
   ]
  },
  {
   "cell_type": "code",
   "execution_count": 40,
   "metadata": {},
   "outputs": [
    {
     "name": "stdout",
     "output_type": "stream",
     "text": [
      "            latitude  longitude   mean_canopy\n",
      "0   19      2.014083  22.486145  3.402823e+38\n",
      "    20      2.056305  22.481928  3.402823e+38\n",
      "    21      2.057207  22.481836  2.150213e+00\n",
      "    22      2.058109  22.481745  3.880302e+00\n",
      "    23      2.062620  22.481297  3.402823e+38\n",
      "...              ...        ...           ...\n",
      "441 10092  10.995555  27.352436  3.402823e+38\n",
      "    10093  10.996457  27.352345  3.402823e+38\n",
      "    10094  10.997359  27.352249  3.402823e+38\n",
      "    10095  10.998260  27.352158  3.402823e+38\n",
      "    10096  10.999163  27.352068  3.402823e+38\n",
      "\n",
      "[855063 rows x 3 columns]\n"
     ]
    }
   ],
   "source": [
    "print(all_points)"
   ]
  },
  {
   "cell_type": "code",
   "execution_count": 41,
   "metadata": {},
   "outputs": [],
   "source": [
    "np.savetxt(\"D:\\\\masters_data\\\\output\\\\csv\\\\all_points.txt\", all_points, delimiter=\",\")"
   ]
  },
  {
   "cell_type": "code",
   "execution_count": 38,
   "metadata": {},
   "outputs": [
    {
     "data": {
      "text/plain": [
       "855063"
      ]
     },
     "execution_count": 38,
     "metadata": {},
     "output_type": "execute_result"
    }
   ],
   "source": [
    "len(all_points)"
   ]
  }
 ],
 "metadata": {
  "kernelspec": {
   "display_name": "Python 3",
   "language": "python",
   "name": "python3"
  },
  "language_info": {
   "codemirror_mode": {
    "name": "ipython",
    "version": 3
   },
   "file_extension": ".py",
   "mimetype": "text/x-python",
   "name": "python",
   "nbconvert_exporter": "python",
   "pygments_lexer": "ipython3",
   "version": "3.8.5"
  }
 },
 "nbformat": 4,
 "nbformat_minor": 4
}
