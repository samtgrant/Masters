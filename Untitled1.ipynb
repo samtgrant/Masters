{
 "cells": [
  {
   "cell_type": "code",
   "execution_count": 33,
   "metadata": {},
   "outputs": [],
   "source": [
    "# Import libraries\n",
    "import os\n",
    "import glob\n",
    "from osgeo import gdal\n",
    "import numpy as np\n",
    "import numpy.ma as ma\n",
    "import matplotlib.pyplot as plt\n",
    "import scipy.ndimage\n",
    "import pandas as pd\n",
    "import datetime as dt\n",
    "import rasterio as rio\n",
    "import re\n",
    "import geopandas as gpd\n",
    "import earthpy as et\n",
    "import earthpy.plot as ep\n",
    "import earthpy.spatial as es\n",
    "import earthpy.mask as em\n",
    "from pyhdf.SD import SD, SDC\n",
    "import pprint\n",
    "import gdal\n",
    "from gdalconst import *\n",
    "import matplotlib.colors as colors \n",
    "from mpl_toolkits.axes_grid1 import make_axes_locatable \n",
    "import seaborn as sns\n",
    "from sklearn.linear_model import LinearRegression"
   ]
  },
  {
   "cell_type": "code",
   "execution_count": 23,
   "metadata": {},
   "outputs": [],
   "source": [
    "H19V07_data = pd.read_csv(\"D:\\\\masters_data\\\\output\\\\csv\\\\NDVI\\\\Total\\\\H19V07_VI_array.csv\", header=None)\n",
    "H19V08_data = pd.read_csv(\"D:\\\\masters_data\\\\output\\\\csv\\\\NDVI\\\\Total\\\\H19V08_VI_array.csv\", header=None)\n",
    "H20V07_data = pd.read_csv(\"D:\\\\masters_data\\\\output\\\\csv\\\\NDVI\\\\Total\\\\H20V07_VI_array.csv\", header=None)\n",
    "H20V08_data = pd.read_csv(\"D:\\\\masters_data\\\\output\\\\csv\\\\NDVI\\\\Total\\\\H20V08_VI_array.csv\", header=None)"
   ]
  },
  {
   "cell_type": "code",
   "execution_count": 24,
   "metadata": {},
   "outputs": [],
   "source": [
    "H19V07_VI_array_np = H19V07_data.to_numpy()\n",
    "H19V07_VI_list = H19V07_VI_array_np.flatten().tolist()\n",
    "\n",
    "H19V08_VI_array_np = H19V08_data.to_numpy()\n",
    "H19V08_VI_list = H19V08_VI_array_np.flatten().tolist()\n",
    "\n",
    "H20V07_VI_array_np = H20V07_data.to_numpy()\n",
    "H20V07_VI_list = H20V07_VI_array_np.flatten().tolist()\n",
    "\n",
    "H20V08_VI_array_np = H20V08_data.to_numpy()\n",
    "H20V08_VI_list = H20V08_VI_array_np.flatten().tolist()"
   ]
  },
  {
   "cell_type": "code",
   "execution_count": 25,
   "metadata": {},
   "outputs": [],
   "source": [
    "data = pd.read_csv(\"D:\\\\masters_data\\\\output\\csv\\\\Analysis\\\\total_data.csv\", header=None)"
   ]
  },
  {
   "cell_type": "code",
   "execution_count": 31,
   "metadata": {},
   "outputs": [],
   "source": [
    "data.columns = [\"mean_canopy\", \"canopy_max_height\", \"canopy_min_height\", \"canopy_median_height\", \"canopy_openness\", \n",
    "                \"BA_category\", \"Total_rainfall\", \"First_burns\", \"Second_burns\", \"Total_burns\", \"rainfall_band\", \"Average NDVI\", \"Tile\", \"Canopy Spread\"]"
   ]
  },
  {
   "cell_type": "code",
   "execution_count": 28,
   "metadata": {},
   "outputs": [],
   "source": [
    "data['canopy_spread'] = (data['canopy_max_height'] - data['canopy_min_height']) /  data['mean_canopy']"
   ]
  },
  {
   "cell_type": "code",
   "execution_count": 32,
   "metadata": {},
   "outputs": [
    {
     "data": {
      "text/html": [
       "<div>\n",
       "<style scoped>\n",
       "    .dataframe tbody tr th:only-of-type {\n",
       "        vertical-align: middle;\n",
       "    }\n",
       "\n",
       "    .dataframe tbody tr th {\n",
       "        vertical-align: top;\n",
       "    }\n",
       "\n",
       "    .dataframe thead th {\n",
       "        text-align: right;\n",
       "    }\n",
       "</style>\n",
       "<table border=\"1\" class=\"dataframe\">\n",
       "  <thead>\n",
       "    <tr style=\"text-align: right;\">\n",
       "      <th></th>\n",
       "      <th>mean_canopy</th>\n",
       "      <th>canopy_max_height</th>\n",
       "      <th>canopy_min_height</th>\n",
       "      <th>canopy_median_height</th>\n",
       "      <th>canopy_openness</th>\n",
       "      <th>BA_category</th>\n",
       "      <th>Total_rainfall</th>\n",
       "      <th>First_burns</th>\n",
       "      <th>Second_burns</th>\n",
       "      <th>Total_burns</th>\n",
       "      <th>rainfall_band</th>\n",
       "      <th>Average NDVI</th>\n",
       "      <th>Tile</th>\n",
       "      <th>Canopy Spread</th>\n",
       "    </tr>\n",
       "  </thead>\n",
       "  <tbody>\n",
       "    <tr>\n",
       "      <th>0</th>\n",
       "      <td>6.04</td>\n",
       "      <td>9.64</td>\n",
       "      <td>2.290</td>\n",
       "      <td>6.42</td>\n",
       "      <td>1.97</td>\n",
       "      <td>low_low</td>\n",
       "      <td>26.073093</td>\n",
       "      <td>0.0</td>\n",
       "      <td>0.0</td>\n",
       "      <td>0.0</td>\n",
       "      <td>500_1500</td>\n",
       "      <td>979.815534</td>\n",
       "      <td>H19V07</td>\n",
       "      <td>1.216887</td>\n",
       "    </tr>\n",
       "    <tr>\n",
       "      <th>1</th>\n",
       "      <td>2.26</td>\n",
       "      <td>5.38</td>\n",
       "      <td>0.511</td>\n",
       "      <td>1.74</td>\n",
       "      <td>1.40</td>\n",
       "      <td>low_low</td>\n",
       "      <td>26.068037</td>\n",
       "      <td>0.0</td>\n",
       "      <td>0.0</td>\n",
       "      <td>0.0</td>\n",
       "      <td>500_1500</td>\n",
       "      <td>986.992718</td>\n",
       "      <td>H19V07</td>\n",
       "      <td>2.154425</td>\n",
       "    </tr>\n",
       "    <tr>\n",
       "      <th>2</th>\n",
       "      <td>2.53</td>\n",
       "      <td>7.31</td>\n",
       "      <td>0.514</td>\n",
       "      <td>1.18</td>\n",
       "      <td>2.25</td>\n",
       "      <td>low_low</td>\n",
       "      <td>26.160865</td>\n",
       "      <td>0.0</td>\n",
       "      <td>0.0</td>\n",
       "      <td>0.0</td>\n",
       "      <td>500_1500</td>\n",
       "      <td>972.259709</td>\n",
       "      <td>H19V07</td>\n",
       "      <td>2.686166</td>\n",
       "    </tr>\n",
       "    <tr>\n",
       "      <th>3</th>\n",
       "      <td>5.72</td>\n",
       "      <td>8.51</td>\n",
       "      <td>0.622</td>\n",
       "      <td>5.94</td>\n",
       "      <td>2.13</td>\n",
       "      <td>low_low</td>\n",
       "      <td>29.026940</td>\n",
       "      <td>0.0</td>\n",
       "      <td>0.0</td>\n",
       "      <td>0.0</td>\n",
       "      <td>500_1500</td>\n",
       "      <td>976.728155</td>\n",
       "      <td>H19V07</td>\n",
       "      <td>1.379021</td>\n",
       "    </tr>\n",
       "    <tr>\n",
       "      <th>4</th>\n",
       "      <td>5.20</td>\n",
       "      <td>8.15</td>\n",
       "      <td>0.520</td>\n",
       "      <td>5.08</td>\n",
       "      <td>1.86</td>\n",
       "      <td>low_low</td>\n",
       "      <td>27.917566</td>\n",
       "      <td>0.0</td>\n",
       "      <td>0.0</td>\n",
       "      <td>0.0</td>\n",
       "      <td>500_1500</td>\n",
       "      <td>978.490291</td>\n",
       "      <td>H19V07</td>\n",
       "      <td>1.467308</td>\n",
       "    </tr>\n",
       "    <tr>\n",
       "      <th>...</th>\n",
       "      <td>...</td>\n",
       "      <td>...</td>\n",
       "      <td>...</td>\n",
       "      <td>...</td>\n",
       "      <td>...</td>\n",
       "      <td>...</td>\n",
       "      <td>...</td>\n",
       "      <td>...</td>\n",
       "      <td>...</td>\n",
       "      <td>...</td>\n",
       "      <td>...</td>\n",
       "      <td>...</td>\n",
       "      <td>...</td>\n",
       "      <td>...</td>\n",
       "    </tr>\n",
       "    <tr>\n",
       "      <th>305303</th>\n",
       "      <td>2.32</td>\n",
       "      <td>7.27</td>\n",
       "      <td>0.537</td>\n",
       "      <td>1.46</td>\n",
       "      <td>1.89</td>\n",
       "      <td>med_high</td>\n",
       "      <td>1721.141523</td>\n",
       "      <td>6.0</td>\n",
       "      <td>8.0</td>\n",
       "      <td>14.0</td>\n",
       "      <td>500_1500</td>\n",
       "      <td>5547.019417</td>\n",
       "      <td>H20V08</td>\n",
       "      <td>2.902155</td>\n",
       "    </tr>\n",
       "    <tr>\n",
       "      <th>305304</th>\n",
       "      <td>2.03</td>\n",
       "      <td>5.03</td>\n",
       "      <td>0.505</td>\n",
       "      <td>1.63</td>\n",
       "      <td>1.31</td>\n",
       "      <td>med_med</td>\n",
       "      <td>1436.409851</td>\n",
       "      <td>6.0</td>\n",
       "      <td>3.0</td>\n",
       "      <td>9.0</td>\n",
       "      <td>500_1500</td>\n",
       "      <td>5708.546117</td>\n",
       "      <td>H20V08</td>\n",
       "      <td>2.229064</td>\n",
       "    </tr>\n",
       "    <tr>\n",
       "      <th>305305</th>\n",
       "      <td>6.36</td>\n",
       "      <td>11.30</td>\n",
       "      <td>0.524</td>\n",
       "      <td>6.64</td>\n",
       "      <td>2.75</td>\n",
       "      <td>low_low</td>\n",
       "      <td>1196.989934</td>\n",
       "      <td>0.0</td>\n",
       "      <td>0.0</td>\n",
       "      <td>0.0</td>\n",
       "      <td>500_1500</td>\n",
       "      <td>5775.082524</td>\n",
       "      <td>H20V08</td>\n",
       "      <td>1.694340</td>\n",
       "    </tr>\n",
       "    <tr>\n",
       "      <th>305306</th>\n",
       "      <td>5.75</td>\n",
       "      <td>12.20</td>\n",
       "      <td>0.530</td>\n",
       "      <td>6.44</td>\n",
       "      <td>3.28</td>\n",
       "      <td>low_low</td>\n",
       "      <td>1042.818575</td>\n",
       "      <td>0.0</td>\n",
       "      <td>0.0</td>\n",
       "      <td>0.0</td>\n",
       "      <td>500_1500</td>\n",
       "      <td>5613.589806</td>\n",
       "      <td>H20V08</td>\n",
       "      <td>2.029565</td>\n",
       "    </tr>\n",
       "    <tr>\n",
       "      <th>305307</th>\n",
       "      <td>5.49</td>\n",
       "      <td>11.30</td>\n",
       "      <td>0.502</td>\n",
       "      <td>6.31</td>\n",
       "      <td>2.89</td>\n",
       "      <td>med_low</td>\n",
       "      <td>1092.003959</td>\n",
       "      <td>4.0</td>\n",
       "      <td>0.0</td>\n",
       "      <td>4.0</td>\n",
       "      <td>sub500</td>\n",
       "      <td>5456.097087</td>\n",
       "      <td>H20V08</td>\n",
       "      <td>1.966849</td>\n",
       "    </tr>\n",
       "  </tbody>\n",
       "</table>\n",
       "<p>305308 rows × 14 columns</p>\n",
       "</div>"
      ],
      "text/plain": [
       "        mean_canopy  canopy_max_height  canopy_min_height  \\\n",
       "0              6.04               9.64              2.290   \n",
       "1              2.26               5.38              0.511   \n",
       "2              2.53               7.31              0.514   \n",
       "3              5.72               8.51              0.622   \n",
       "4              5.20               8.15              0.520   \n",
       "...             ...                ...                ...   \n",
       "305303         2.32               7.27              0.537   \n",
       "305304         2.03               5.03              0.505   \n",
       "305305         6.36              11.30              0.524   \n",
       "305306         5.75              12.20              0.530   \n",
       "305307         5.49              11.30              0.502   \n",
       "\n",
       "        canopy_median_height  canopy_openness BA_category  Total_rainfall  \\\n",
       "0                       6.42             1.97     low_low       26.073093   \n",
       "1                       1.74             1.40     low_low       26.068037   \n",
       "2                       1.18             2.25     low_low       26.160865   \n",
       "3                       5.94             2.13     low_low       29.026940   \n",
       "4                       5.08             1.86     low_low       27.917566   \n",
       "...                      ...              ...         ...             ...   \n",
       "305303                  1.46             1.89    med_high     1721.141523   \n",
       "305304                  1.63             1.31     med_med     1436.409851   \n",
       "305305                  6.64             2.75     low_low     1196.989934   \n",
       "305306                  6.44             3.28     low_low     1042.818575   \n",
       "305307                  6.31             2.89     med_low     1092.003959   \n",
       "\n",
       "        First_burns  Second_burns  Total_burns rainfall_band  Average NDVI  \\\n",
       "0               0.0           0.0          0.0      500_1500    979.815534   \n",
       "1               0.0           0.0          0.0      500_1500    986.992718   \n",
       "2               0.0           0.0          0.0      500_1500    972.259709   \n",
       "3               0.0           0.0          0.0      500_1500    976.728155   \n",
       "4               0.0           0.0          0.0      500_1500    978.490291   \n",
       "...             ...           ...          ...           ...           ...   \n",
       "305303          6.0           8.0         14.0      500_1500   5547.019417   \n",
       "305304          6.0           3.0          9.0      500_1500   5708.546117   \n",
       "305305          0.0           0.0          0.0      500_1500   5775.082524   \n",
       "305306          0.0           0.0          0.0      500_1500   5613.589806   \n",
       "305307          4.0           0.0          4.0        sub500   5456.097087   \n",
       "\n",
       "          Tile  Canopy Spread  \n",
       "0       H19V07       1.216887  \n",
       "1       H19V07       2.154425  \n",
       "2       H19V07       2.686166  \n",
       "3       H19V07       1.379021  \n",
       "4       H19V07       1.467308  \n",
       "...        ...            ...  \n",
       "305303  H20V08       2.902155  \n",
       "305304  H20V08       2.229064  \n",
       "305305  H20V08       1.694340  \n",
       "305306  H20V08       2.029565  \n",
       "305307  H20V08       1.966849  \n",
       "\n",
       "[305308 rows x 14 columns]"
      ]
     },
     "execution_count": 32,
     "metadata": {},
     "output_type": "execute_result"
    }
   ],
   "source": [
    "data\n",
    "# total rainfall still aint right."
   ]
  },
  {
   "cell_type": "code",
   "execution_count": 19,
   "metadata": {},
   "outputs": [],
   "source": [
    "data_H19V07 = data.loc[data['Tile'] == \"H19V07\"]\n",
    "data_H19V08 = data.loc[data['Tile'] == \"H19V08\"]\n",
    "data_H20V07 = data.loc[data['Tile'] == \"H20V07\"]\n",
    "data_H20V08 = data.loc[data['Tile'] == \"H20V08\"]"
   ]
  },
  {
   "cell_type": "code",
   "execution_count": 20,
   "metadata": {},
   "outputs": [
    {
     "name": "stdout",
     "output_type": "stream",
     "text": [
      "76327\n",
      "76327\n",
      "76327\n",
      "76327\n"
     ]
    }
   ],
   "source": [
    "print(len(data_H19V07))\n",
    "print(len(data_H19V08))\n",
    "print(len(data_H20V07))\n",
    "print(len(data_H20V08))"
   ]
  },
  {
   "cell_type": "code",
   "execution_count": 21,
   "metadata": {},
   "outputs": [
    {
     "name": "stdout",
     "output_type": "stream",
     "text": [
      "5760000\n",
      "5760000\n",
      "5760000\n",
      "5760000\n",
      "7565.803398058252 -2793.752427184466 1913.0779779770935\n",
      "8189.242718446601 -2030.9368932038833 6021.658610083769\n",
      "6054.169902912621 -1533.3519417475727 1856.065753600744\n",
      "6606.063106796117 1057.912621359223 4037.6290035982147\n"
     ]
    }
   ],
   "source": [
    "print(len(H19V07_VI_list))\n",
    "print(len(H19V08_VI_list))\n",
    "print(len(H20V07_VI_list))\n",
    "print(len(H20V08_VI_list))\n",
    "\n",
    "print(max(H19V07_VI_list), min(H19V07_VI_list), np.mean(H19V07_VI_list))\n",
    "print(max(H19V08_VI_list), min(H19V08_VI_list), np.mean(H19V08_VI_list))\n",
    "print(max(H20V07_VI_list), min(H20V07_VI_list), np.mean(H20V07_VI_list))\n",
    "print(max(H20V08_VI_list), min(H20V08_VI_list), np.mean(H20V08_VI_list))"
   ]
  },
  {
   "cell_type": "code",
   "execution_count": 22,
   "metadata": {},
   "outputs": [
    {
     "name": "stdout",
     "output_type": "stream",
     "text": [
      "['H19V07' 'H19V08' 'H20V07' 'H20V08']\n",
      "['500_1500' 'sub500' 'above1500']\n"
     ]
    }
   ],
   "source": [
    "print(data['Tile'].unique())\n",
    "print(data['rainfall_band'].unique())"
   ]
  },
  {
   "cell_type": "code",
   "execution_count": 47,
   "metadata": {},
   "outputs": [],
   "source": [
    "X = data['Total_rainfall']\n",
    "Y =  data['Average NDVI']\n",
    "X = data.iloc[:, 0].values.reshape(-1, 1)  # values converts it into a numpy array\n",
    "Y = data.iloc[:, 1].values.reshape(-1, 1)  # -1 means that calculate the dimension of rows, but have 1 column\n",
    "\n",
    "linear_regressor = LinearRegression()  # create object for the class\n",
    "linear_regressor.fit(X, Y)  # perform linear regression\n",
    "Y_pred = linear_regressor.predict(X)  # make predictions"
   ]
  },
  {
   "cell_type": "code",
   "execution_count": 49,
   "metadata": {},
   "outputs": [
    {
     "data": {
      "text/plain": [
       "[<matplotlib.lines.Line2D at 0x245871f4eb0>]"
      ]
     },
     "execution_count": 49,
     "metadata": {},
     "output_type": "execute_result"
    },
    {
     "data": {
      "image/png": "[encoded data removed]",
      "text/plain": [
       "<Figure size 432x288 with 1 Axes>"
      ]
     },
     "metadata": {
      "needs_background": "light"
     },
     "output_type": "display_data"
    }
   ],
   "source": [
    "plt.scatter(X,Y)\n",
    "plt.plot(X, Y_pred, color='red')"
   ]
  },
  {
   "cell_type": "code",
   "execution_count": 51,
   "metadata": {},
   "outputs": [
    {
     "data": {
      "text/plain": [
       "(array([241575.,  13999.,   9415.,   7581.,   6978.,   5483.,   6061.,\n",
       "          7274.,   6572.,    370.]),\n",
       " array([ 0. ,  2.1,  4.2,  6.3,  8.4, 10.5, 12.6, 14.7, 16.8, 18.9, 21. ]),\n",
       " <BarContainer object of 10 artists>)"
      ]
     },
     "execution_count": 51,
     "metadata": {},
     "output_type": "execute_result"
    },
    {
     "data": {
      "image/png": "[encoded data removed]",
      "text/plain": [
       "<Figure size 432x288 with 1 Axes>"
      ]
     },
     "metadata": {
      "needs_background": "light"
     },
     "output_type": "display_data"
    }
   ],
   "source": [
    "plt.hist(data['Total_burns'])"
   ]
  },
  {
   "cell_type": "code",
   "execution_count": null,
   "metadata": {},
   "outputs": [],
   "source": [
    "plt.bar(data['Total_burns'],data['Average NDVI'])\n",
    "plt.show()"
   ]
  },
  {
   "cell_type": "code",
   "execution_count": null,
   "metadata": {},
   "outputs": [],
   "source": []
  }
 ],
 "metadata": {
  "kernelspec": {
   "display_name": "Python 3",
   "language": "python",
   "name": "python3"
  },
  "language_info": {
   "codemirror_mode": {
    "name": "ipython",
    "version": 3
   },
   "file_extension": ".py",
   "mimetype": "text/x-python",
   "name": "python",
   "nbconvert_exporter": "python",
   "pygments_lexer": "ipython3",
   "version": "3.8.5"
  }
 },
 "nbformat": 4,
 "nbformat_minor": 4
}
