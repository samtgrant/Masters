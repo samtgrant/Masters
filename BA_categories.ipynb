{
 "cells": [
  {
   "cell_type": "markdown",
   "metadata": {},
   "source": [
    "# Creating BA categories for first and last 9 years separately, for comparison"
   ]
  },
  {
   "cell_type": "markdown",
   "metadata": {},
   "source": [
    "This will then be used for analysis in separate files"
   ]
  },
  {
   "cell_type": "code",
   "execution_count": 1,
   "metadata": {},
   "outputs": [],
   "source": [
    "# Import libraries\n",
    "\n",
    "import os\n",
    "import glob\n",
    "from osgeo import gdal\n",
    "import numpy as np\n",
    "import numpy.ma as ma\n",
    "import matplotlib.pyplot as plt\n",
    "import scipy.ndimage\n",
    "import pandas as pd\n",
    "import datetime as dt\n",
    "import rasterio as rio\n",
    "import re\n",
    "import geopandas as gpd\n",
    "import earthpy as et\n",
    "import earthpy.plot as ep\n",
    "import earthpy.spatial as es\n",
    "import earthpy.mask as em\n",
    "from pyhdf.SD import SD, SDC\n",
    "import pprint\n",
    "import matplotlib.colors as colors \n",
    "from mpl_toolkits.axes_grid1 import make_axes_locatable \n",
    "import csv\n",
    "import pprint\n",
    "import h5py \n",
    "import gdal\n",
    "from gdalconst import *"
   ]
  },
  {
   "cell_type": "code",
   "execution_count": 10,
   "metadata": {},
   "outputs": [],
   "source": [
    "# Set input directory, and change working directory - plug in D drive\n",
    "inDir = \"D:\\\\masters_data\\\\MODIS_BA\" \n",
    "os.chdir(inDir)                                                               # Change to working directory\n",
    "outDir = os.path.normpath(os.path.split(inDir)[0] + os.sep + 'output') + '\\\\' # Create and set output directory\n",
    "if not os.path.exists(outDir): os.makedirs(outDir)"
   ]
  },
  {
   "cell_type": "code",
   "execution_count": 11,
   "metadata": {},
   "outputs": [
    {
     "name": "stdout",
     "output_type": "stream",
     "text": [
      "216\n"
     ]
    }
   ],
   "source": [
    "# select MODIS files\n",
    "MODISFiles = glob.glob('*h20v08*') \n",
    "print(len(MODISFiles))\n",
    "# print(MODISFiles[0])"
   ]
  },
  {
   "cell_type": "code",
   "execution_count": 13,
   "metadata": {},
   "outputs": [],
   "source": [
    "First_MODISFiles = MODISFiles[:108]\n",
    "Second_MODISFiles = MODISFiles[108:]"
   ]
  },
  {
   "cell_type": "code",
   "execution_count": 14,
   "metadata": {},
   "outputs": [
    {
     "name": "stdout",
     "output_type": "stream",
     "text": [
      "108 108\n"
     ]
    }
   ],
   "source": [
    "print(len(First_MODISFiles), len(Second_MODISFiles))"
   ]
  },
  {
   "cell_type": "code",
   "execution_count": 10,
   "metadata": {},
   "outputs": [
    {
     "name": "stderr",
     "output_type": "stream",
     "text": [
      "C:\\Users\\samgr\\miniconda3\\envs\\GDAL_test\\lib\\site-packages\\rasterio\\__init__.py:218: NotGeoreferencedWarning: Dataset has no geotransform set. The identity matrix may be returned.\n",
      "  s = DatasetReader(path, driver=driver, sharing=sharing, **kwargs)\n"
     ]
    }
   ],
   "source": [
    "# create BA array for first 9 years (2002 - 2010)\n",
    "first_BA = np.zeros((2400, 2400))\n",
    "NUMBER = 0\n",
    "\n",
    "for j in First_MODISFiles:\n",
    "    filename= First_MODISFiles[NUMBER]\n",
    "    dataset = gdal.Open(filename,GA_ReadOnly)\n",
    "    subdataset = dataset.GetSubDatasets()[1]\n",
    "    \n",
    "    with rio.open(First_MODISFiles[NUMBER]) as dataset:\n",
    "        crs = dataset.read_crs()\n",
    "    \n",
    "    file_name = First_MODISFiles[NUMBER]\n",
    "    file = SD(file_name, SDC.READ)   \n",
    "    \n",
    "    datasets_dic = file.datasets()\n",
    "    sds_obj = file.select(0)\n",
    "    data = sds_obj.get() \n",
    "    result = np.where(data > 0)\n",
    "    \n",
    "    first_BA[result] += 1\n",
    "    \n",
    "    NUMBER += 1\n"
   ]
  },
  {
   "cell_type": "code",
   "execution_count": 11,
   "metadata": {},
   "outputs": [],
   "source": [
    "# create BA array for second 9 years (2011 - 2018)\n",
    "second_BA = np.zeros((2400, 2400))\n",
    "NUMBER = 0\n",
    "\n",
    "for j in Second_MODISFiles:\n",
    "    filename= Second_MODISFiles[NUMBER]\n",
    "    dataset = gdal.Open(filename,GA_ReadOnly)\n",
    "    subdataset = dataset.GetSubDatasets()[1]\n",
    "    \n",
    "    with rio.open(Second_MODISFiles[NUMBER]) as dataset:\n",
    "        crs = dataset.read_crs()\n",
    "    \n",
    "    file_name = Second_MODISFiles[NUMBER]\n",
    "    file = SD(file_name, SDC.READ)   \n",
    "    \n",
    "    datasets_dic = file.datasets()\n",
    "    sds_obj = file.select(0)\n",
    "    data = sds_obj.get() \n",
    "    result = np.where(data > 0)\n",
    "    \n",
    "    second_BA[result] += 1\n",
    "    \n",
    "    NUMBER += 1\n"
   ]
  },
  {
   "cell_type": "code",
   "execution_count": 12,
   "metadata": {},
   "outputs": [],
   "source": [
    "np.savetxt(\"D:\\\\masters_data\\\\output\\\\first_BA.csv\", first_BA, delimiter=\",\")\n",
    "np.savetxt(\"D:\\\\masters_data\\\\output\\\\second_BA.csv\", second_BA, delimiter=\",\")"
   ]
  },
  {
   "cell_type": "markdown",
   "metadata": {},
   "source": [
    "Note - Doesn't only account for Savannah regions"
   ]
  },
  {
   "cell_type": "code",
   "execution_count": 13,
   "metadata": {},
   "outputs": [
    {
     "name": "stdout",
     "output_type": "stream",
     "text": [
      "2.4331465277777777 13.0\n",
      "2.159437326388889 13.0\n"
     ]
    }
   ],
   "source": [
    "print(first_BA.mean(), first_BA.max())\n",
    "print(second_BA.mean(), second_BA.max())"
   ]
  },
  {
   "cell_type": "code",
   "execution_count": 25,
   "metadata": {},
   "outputs": [],
   "source": [
    "# need to add heading row to first/second BA "
   ]
  },
  {
   "cell_type": "code",
   "execution_count": 20,
   "metadata": {},
   "outputs": [
    {
     "data": {
      "image/png": "[encoded data removed]",
      "text/plain": [
       "<Figure size 432x288 with 1 Axes>"
      ]
     },
     "metadata": {
      "needs_background": "light"
     },
     "output_type": "display_data"
    }
   ],
   "source": [
    "first_BA_list = []\n",
    "second_BA_list = []\n",
    "\n",
    "for i in range(0,101):\n",
    "    first_BA_list.append(np.quantile(first_BA, i/100))\n",
    "    second_BA_list.append(np.quantile(first_BA, i/100))\n",
    "\n",
    "bins = np.linspace(0, 20, 20)\n",
    "\n",
    "plt.hist([first_BA_list, second_BA_list], bins, label=[' first_BA_list', 'second_BA_list'])\n",
    "# plt.hist(first_BA_list, bins, alpha=0.5, label='first_BA_list')\n",
    "# plt.hist(second_BA_list, bins, alpha=0.5, label='second_BA')\n",
    "plt.legend(loc='upper right')\n",
    "plt.show()"
   ]
  },
  {
   "cell_type": "code",
   "execution_count": 27,
   "metadata": {},
   "outputs": [
    {
     "name": "stdout",
     "output_type": "stream",
     "text": [
      "First_BA = 1:\t 432789 times\n",
      "Second_BA = 1:\t 464525 times\n",
      "\n",
      "First_BA < 10:\t 5719447 times\n",
      "Second_BA < 10:\t 5714824 times\n",
      "\n",
      "First_BA >= 10:\t 40553 times\n",
      "Second_BA >= 10:\t 45176 times\n",
      "\n"
     ]
    }
   ],
   "source": [
    "print(\"First_BA = 1:\\t {} times\".format(np.count_nonzero(first_BA == 1)))\n",
    "print(\"Second_BA = 1:\\t {} times\".format(np.count_nonzero(second_BA == 1)))\n",
    "print()\n",
    "\n",
    "print(\"First_BA < 10:\\t {} times\".format(np.count_nonzero(first_BA < 10)))\n",
    "print(\"Second_BA < 10:\\t {} times\".format(np.count_nonzero(second_BA < 10)))\n",
    "print()\n",
    "\n",
    "print(\"First_BA >= 10:\\t {} times\".format(np.count_nonzero(first_BA >= 10)))\n",
    "print(\"Second_BA >= 10:\\t {} times\".format(np.count_nonzero(second_BA >= 10)))\n",
    "print()\n"
   ]
  },
  {
   "cell_type": "code",
   "execution_count": 41,
   "metadata": {},
   "outputs": [],
   "source": [
    "first_BA_0 = np.count_nonzero(first_BA == 0)\n",
    "first_BA_1 = np.count_nonzero(first_BA == 1)\n",
    "first_BA_2 = np.count_nonzero(first_BA == 2)\n",
    "first_BA_3 = np.count_nonzero(first_BA == 3)\n",
    "first_BA_4 = np.count_nonzero(first_BA == 4)\n",
    "first_BA_5 = np.count_nonzero(first_BA == 5)\n",
    "first_BA_6 = np.count_nonzero(first_BA == 6)\n",
    "first_BA_7 = np.count_nonzero(first_BA == 7)\n",
    "first_BA_8 = np.count_nonzero(first_BA == 8)\n",
    "first_BA_9 = np.count_nonzero(first_BA == 9)\n",
    "first_BA_10 = np.count_nonzero(first_BA == 10)\n",
    "first_BA_10_ = np.count_nonzero(first_BA > 10)\n",
    "\n",
    "second_BA_0 = np.count_nonzero(second_BA == 0)\n",
    "second_BA_1 = np.count_nonzero(second_BA == 1)\n",
    "second_BA_2 = np.count_nonzero(second_BA == 2)\n",
    "second_BA_3 = np.count_nonzero(second_BA == 3)\n",
    "second_BA_4 = np.count_nonzero(second_BA == 4)\n",
    "second_BA_5 = np.count_nonzero(second_BA == 5)\n",
    "second_BA_6 = np.count_nonzero(second_BA == 6)\n",
    "second_BA_7 = np.count_nonzero(second_BA == 7)\n",
    "second_BA_8 = np.count_nonzero(second_BA == 8)\n",
    "second_BA_9 = np.count_nonzero(second_BA == 9)\n",
    "second_BA_10 = np.count_nonzero(second_BA == 10)\n",
    "second_BA_10_ = np.count_nonzero(second_BA > 10)"
   ]
  },
  {
   "cell_type": "code",
   "execution_count": 47,
   "metadata": {},
   "outputs": [],
   "source": [
    "FIRST_list = [\n",
    "    # first_BA_0, \n",
    "    first_BA_1, first_BA_2, first_BA_3, first_BA_4, first_BA_5, first_BA_6, \n",
    "    first_BA_7, first_BA_8, first_BA_9, first_BA_10,first_BA_10_\n",
    "]\n",
    "SECOND_list = [\n",
    "    # second_BA_0, \n",
    "    second_BA_1, second_BA_2, second_BA_3, second_BA_4, second_BA_5, second_BA_6, \n",
    "    second_BA_7, second_BA_8, second_BA_9, second_BA_10,second_BA_10_\n",
    "]\n",
    "\n",
    "frequency = ['1', '2', '3', '4', '5', '6', '7', '8', '9', '10', '10+'] "
   ]
  },
  {
   "cell_type": "code",
   "execution_count": 51,
   "metadata": {},
   "outputs": [
    {
     "data": {
      "image/png": "[encoded data removed]",
      "text/plain": [
       "<Figure size 432x288 with 1 Axes>"
      ]
     },
     "metadata": {
      "needs_background": "light"
     },
     "output_type": "display_data"
    },
    {
     "data": {
      "text/plain": [
       "<Figure size 432x288 with 0 Axes>"
      ]
     },
     "metadata": {},
     "output_type": "display_data"
    }
   ],
   "source": [
    "plt.plot(frequency, FIRST_list, label = \"First BA\")\n",
    "plt.plot(frequency, SECOND_list, label = \"Second BA\")\n",
    "plt.legend()\n",
    "plt.xlabel('fire frequency')\n",
    "plt.ylabel('occurance')\n",
    "plt.show()\n",
    "plt.savefig(\"fire_frequency.jpg\")"
   ]
  },
  {
   "cell_type": "code",
   "execution_count": null,
   "metadata": {},
   "outputs": [],
   "source": []
  }
 ],
 "metadata": {
  "kernelspec": {
   "display_name": "Python 3",
   "language": "python",
   "name": "python3"
  },
  "language_info": {
   "codemirror_mode": {
    "name": "ipython",
    "version": 3
   },
   "file_extension": ".py",
   "mimetype": "text/x-python",
   "name": "python",
   "nbconvert_exporter": "python",
   "pygments_lexer": "ipython3",
   "version": "3.8.5"
  }
 },
 "nbformat": 4,
 "nbformat_minor": 4
}
