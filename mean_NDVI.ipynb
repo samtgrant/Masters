{
 "cells": [
  {
   "cell_type": "code",
   "execution_count": 1,
   "metadata": {},
   "outputs": [],
   "source": [
    "# I want to calculate mean NDVI - first 9 years, second 9 years and total"
   ]
  },
  {
   "cell_type": "code",
   "execution_count": 2,
   "metadata": {},
   "outputs": [],
   "source": [
    "# Import libraries\n",
    "import os\n",
    "import glob\n",
    "from osgeo import gdal\n",
    "import numpy as np\n",
    "import numpy.ma as ma\n",
    "import matplotlib.pyplot as plt\n",
    "import scipy.ndimage\n",
    "import pandas as pd\n",
    "import datetime as dt\n",
    "import rasterio as rio\n",
    "import re\n",
    "import geopandas as gpd\n",
    "import earthpy as et\n",
    "import earthpy.plot as ep\n",
    "import earthpy.spatial as es\n",
    "import earthpy.mask as em\n",
    "from pyhdf.SD import SD, SDC\n",
    "import pprint\n",
    "import gdal\n",
    "from gdalconst import *\n",
    "import matplotlib.colors as colors \n",
    "from mpl_toolkits.axes_grid1 import make_axes_locatable "
   ]
  },
  {
   "cell_type": "markdown",
   "metadata": {},
   "source": [
    "8 files missing - 2 dates:\n",
    "2002 - 001\n",
    "2016 - 081"
   ]
  },
  {
   "cell_type": "code",
   "execution_count": 4,
   "metadata": {},
   "outputs": [
    {
     "name": "stdout",
     "output_type": "stream",
     "text": [
      "412\n",
      "206 206\n"
     ]
    }
   ],
   "source": [
    "# Set input directory, and change working directory - plug in D:\n",
    "inDir = \"D:\\\\masters_data\\\\MODIS_VI\"   \n",
    "os.chdir(inDir)                                                               # Change to working directory\n",
    "outDir = os.path.normpath(os.path.split(inDir)[0] + os.sep + 'output') + '\\\\' # Create and set output directory\n",
    "if not os.path.exists(outDir): os.makedirs(outDir)\n",
    "H20V08_VI = glob.glob('*H20V08*')\n",
    "First_H20V08_VI = H20V08_VI[:206]\n",
    "Second_H20V08_VI = H20V08_VI[206:]\n",
    "print(len(H20V08_VI))\n",
    "print(len(First_H20V08_VI), len(Second_H20V08_VI))"
   ]
  },
  {
   "cell_type": "code",
   "execution_count": 4,
   "metadata": {},
   "outputs": [
    {
     "name": "stderr",
     "output_type": "stream",
     "text": [
      "C:\\Users\\samgr\\miniconda3\\envs\\GDAL_test\\lib\\site-packages\\rasterio\\__init__.py:218: NotGeoreferencedWarning: Dataset has no geotransform set. The identity matrix may be returned.\n",
      "  s = DatasetReader(path, driver=driver, sharing=sharing, **kwargs)\n"
     ]
    }
   ],
   "source": [
    "NUMBER = 0\n",
    "\n",
    "for j in range(len(H20V08_VI)):\n",
    "    filename= H20V08_VI[NUMBER]\n",
    "    dataset = gdal.Open(filename,GA_ReadOnly)\n",
    "    subdataset = dataset.GetSubDatasets()[1]\n",
    "    \n",
    "    with rio.open(H20V08_VI[NUMBER]) as dataset:\n",
    "        crs = dataset.read_crs()\n",
    "    \n",
    "    file_name = H20V08_VI[NUMBER]\n",
    "    file = SD(file_name, SDC.READ)   \n",
    "    \n",
    "    datasets_dic = file.datasets()\n",
    "    sds_obj = file.select(0)\n",
    "    data = sds_obj.get() \n",
    "    \n",
    "    np.savetxt(\"D:\\\\masters_data\\\\output\\\\csv\\\\NDVI\\\\Total\\\\Data\\\\{}.csv\".format(filename), data, delimiter=\",\")\n",
    "    \n",
    "    NUMBER += 1"
   ]
  },
  {
   "cell_type": "code",
   "execution_count": 5,
   "metadata": {},
   "outputs": [],
   "source": [
    "# Set input directory, and change working directory - plug in D:\n",
    "inDir = \"D:\\\\masters_data\\\\MODIS_VI\"   \n",
    "os.chdir(inDir)                                                               # Change to working directory\n",
    "outDir = os.path.normpath(os.path.split(inDir)[0] + os.sep + 'output') + '\\\\' # Create and set output directory\n",
    "if not os.path.exists(outDir): os.makedirs(outDir)\n",
    "\n",
    "H20V07_VI = glob.glob('*H20V07*')\n",
    "\n",
    "\n",
    "NUMBER = 0\n",
    "\n",
    "for j in range(len(H20V07_VI)):\n",
    "    filename= H20V07_VI[NUMBER]\n",
    "    dataset = gdal.Open(filename,GA_ReadOnly)\n",
    "    subdataset = dataset.GetSubDatasets()[1]\n",
    "    \n",
    "    with rio.open(H20V07_VI[NUMBER]) as dataset:\n",
    "        crs = dataset.read_crs()\n",
    "    \n",
    "    file_name = H20V07_VI[NUMBER]\n",
    "    file = SD(file_name, SDC.READ)   \n",
    "    \n",
    "    datasets_dic = file.datasets()\n",
    "    sds_obj = file.select(0)\n",
    "    data = sds_obj.get() \n",
    "    \n",
    "    np.savetxt(\"D:\\\\masters_data\\\\output\\\\csv\\\\NDVI\\\\Total\\\\Data\\\\{}.csv\".format(filename), data, delimiter=\",\")\n",
    "    \n",
    "    NUMBER += 1"
   ]
  },
  {
   "cell_type": "code",
   "execution_count": 6,
   "metadata": {
    "scrolled": true
   },
   "outputs": [],
   "source": [
    "# Set input directory, and change working directory - plug in D:\n",
    "inDir = \"D:\\\\masters_data\\\\MODIS_VI\"   \n",
    "os.chdir(inDir)                                                               # Change to working directory\n",
    "outDir = os.path.normpath(os.path.split(inDir)[0] + os.sep + 'output') + '\\\\' # Create and set output directory\n",
    "if not os.path.exists(outDir): os.makedirs(outDir)\n",
    "\n",
    "H19V07_VI = glob.glob('*H19V07*')\n",
    "\n",
    "\n",
    "NUMBER = 0\n",
    "\n",
    "for j in range(len(H19V07_VI)):\n",
    "    filename= H19V07_VI[NUMBER]\n",
    "    dataset = gdal.Open(filename,GA_ReadOnly)\n",
    "    subdataset = dataset.GetSubDatasets()[1]\n",
    "    \n",
    "    with rio.open(H19V07_VI[NUMBER]) as dataset:\n",
    "        crs = dataset.read_crs()\n",
    "    \n",
    "    file_name = H19V07_VI[NUMBER]\n",
    "    file = SD(file_name, SDC.READ)   \n",
    "    \n",
    "    datasets_dic = file.datasets()\n",
    "    sds_obj = file.select(0)\n",
    "    data = sds_obj.get() \n",
    "    \n",
    "    np.savetxt(\"D:\\\\masters_data\\\\output\\\\csv\\\\NDVI\\\\Total\\\\Data\\\\{}.csv\".format(filename), data, delimiter=\",\")\n",
    "    \n",
    "    NUMBER += 1\n",
    "    \n",
    "    #done"
   ]
  },
  {
   "cell_type": "code",
   "execution_count": 6,
   "metadata": {},
   "outputs": [
    {
     "name": "stderr",
     "output_type": "stream",
     "text": [
      "C:\\Users\\samgr\\miniconda3\\envs\\GDAL_test\\lib\\site-packages\\rasterio\\__init__.py:218: NotGeoreferencedWarning: Dataset has no geotransform set. The identity matrix may be returned.\n",
      "  s = DatasetReader(path, driver=driver, sharing=sharing, **kwargs)\n"
     ]
    }
   ],
   "source": [
    "# Set input directory, and change working directory - plug in D:\n",
    "inDir = \"D:\\\\masters_data\\\\MODIS_VI\"   \n",
    "os.chdir(inDir)                                                               # Change to working directory\n",
    "outDir = os.path.normpath(os.path.split(inDir)[0] + os.sep + 'output') + '\\\\' # Create and set output directory\n",
    "if not os.path.exists(outDir): os.makedirs(outDir)\n",
    "\n",
    "H19V08_VI = glob.glob('*H19V08*')\n",
    "\n",
    "\n",
    "NUMBER = 0\n",
    "\n",
    "for j in range(len(H19V08_VI)):\n",
    "    filename= H19V08_VI[NUMBER]\n",
    "    dataset = gdal.Open(filename,GA_ReadOnly)\n",
    "    subdataset = dataset.GetSubDatasets()[1]\n",
    "    \n",
    "    with rio.open(H19V08_VI[NUMBER]) as dataset:\n",
    "        crs = dataset.read_crs()\n",
    "    \n",
    "    file_name = H19V08_VI[NUMBER]\n",
    "    file = SD(file_name, SDC.READ)   \n",
    "    \n",
    "    datasets_dic = file.datasets()\n",
    "    sds_obj = file.select(0)\n",
    "    data = sds_obj.get() \n",
    "    \n",
    "    np.savetxt(\"D:\\\\masters_data\\\\output\\\\csv\\\\NDVI\\\\Total\\\\Data\\\\{}.csv\".format(filename), data, delimiter=\",\")\n",
    "    \n",
    "    NUMBER += 1"
   ]
  },
  {
   "cell_type": "code",
   "execution_count": 11,
   "metadata": {},
   "outputs": [
    {
     "name": "stdout",
     "output_type": "stream",
     "text": [
      "412\n",
      "412\n",
      "412\n",
      "412\n"
     ]
    }
   ],
   "source": [
    "H20V08_VI = glob.glob('*H20V08*')\n",
    "H20V07_VI = glob.glob('*H20V07*')\n",
    "H19V07_VI = glob.glob('*H19V07*')\n",
    "H19V08_VI = glob.glob('*H19V08*')\n",
    "\n",
    "print(len(H20V08_VI))\n",
    "print(len(H20V07_VI))\n",
    "print(len(H19V07_VI))\n",
    "print(len(H19V08_VI))"
   ]
  },
  {
   "cell_type": "code",
   "execution_count": null,
   "metadata": {},
   "outputs": [],
   "source": []
  }
 ],
 "metadata": {
  "kernelspec": {
   "display_name": "Python 3",
   "language": "python",
   "name": "python3"
  },
  "language_info": {
   "codemirror_mode": {
    "name": "ipython",
    "version": 3
   },
   "file_extension": ".py",
   "mimetype": "text/x-python",
   "name": "python",
   "nbconvert_exporter": "python",
   "pygments_lexer": "ipython3",
   "version": "3.8.5"
  }
 },
 "nbformat": 4,
 "nbformat_minor": 4
}
